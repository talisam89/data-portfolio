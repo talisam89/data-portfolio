{
 "cells": [
  {
   "metadata": {},
   "cell_type": "markdown",
   "source": [
    "# Flight Price Analysis\n",
    "### Q: What is the optimal number of days before departure to book a flight for the lowest fare?\n",
    "This notebook contains EDA and cleaning for the [Flight Prices](https://www.kaggle.com/datasets/dilwong/flightprices?utm_source=chatgpt.com) data set from Kaggle. The data is being explored and cleaned so it can be used to create a dashboard that answers the question above."
   ],
   "id": "b7b2206e482e3625"
  },
  {
   "metadata": {},
   "cell_type": "markdown",
   "source": [
    "## EDA\n",
    "The Kaggle data set was well documented and answered several questions that would have otherwise been explored during EDA. In addition to answering some basic questions about the data like size and data type, the EDA aimed to answer the following questions:\n",
    "- What columns can be dropped to reduce the dataset size?\n",
    "- How can the data be filtered to reduce the dataset size?\n",
    "- Which columns would be most useful as filters to enhance insight into the optimal number of days before departure to book a flight?\n",
    "\n",
    "Info from Kaggle:\n",
    "- Expedia data from 4/16/22 to 10/5/22\n",
    "- Data includes 16 US airports\n",
    "- 31.09 GB\n",
    "- 27 Columns: 16 string, 3 integer, 3 boolean, 5 other\n",
    "- 5,999,739 unique values in flight ID\n",
    "- [Column definitions](https://www.kaggle.com/datasets/dilwong/flightprices?utm_source=chatgpt.com)\n",
    "\n",
    "Additional EDA questions that arose during exploration\n",
    "- Why are there some base fares that are under $1.00?\n",
    "\n"
   ],
   "id": "693bc4c3b0ff37c2"
  },
  {
   "metadata": {
    "ExecuteTime": {
     "end_time": "2025-07-30T00:19:49.557196Z",
     "start_time": "2025-07-30T00:19:46.128910Z"
    }
   },
   "cell_type": "code",
   "source": [
    "# import data 10% of data, try to find columns to remove\n",
    "import pandas as pd\n",
    "eda_df = pd.read_csv('itineraries.csv', nrows=600000)\n",
    "\n",
    "eda_df.head()\n"
   ],
   "id": "f29544c557643afa",
   "outputs": [
    {
     "data": {
      "text/plain": [
       "                              legId  searchDate  flightDate startingAirport  \\\n",
       "0  9ca0e81111c683bec1012473feefd28f  2022-04-16  2022-04-17             ATL   \n",
       "1  98685953630e772a098941b71906592b  2022-04-16  2022-04-17             ATL   \n",
       "2  98d90cbc32bfbb05c2fc32897c7c1087  2022-04-16  2022-04-17             ATL   \n",
       "3  969a269d38eae583f455486fa90877b4  2022-04-16  2022-04-17             ATL   \n",
       "4  980370cf27c89b40d2833a1d5afc9751  2022-04-16  2022-04-17             ATL   \n",
       "\n",
       "  destinationAirport fareBasisCode travelDuration  elapsedDays  \\\n",
       "0                BOS      LA0NX0MC        PT2H29M            0   \n",
       "1                BOS      LA0NX0MC        PT2H30M            0   \n",
       "2                BOS      LA0NX0MC        PT2H30M            0   \n",
       "3                BOS      LA0NX0MC        PT2H32M            0   \n",
       "4                BOS      LA0NX0MC        PT2H34M            0   \n",
       "\n",
       "   isBasicEconomy  isRefundable  ...  segmentsArrivalTimeEpochSeconds  \\\n",
       "0           False         False  ...                       1650223560   \n",
       "1           False         False  ...                       1650200400   \n",
       "2           False         False  ...                       1650218700   \n",
       "3           False         False  ...                       1650227460   \n",
       "4           False         False  ...                       1650213180   \n",
       "\n",
       "          segmentsArrivalTimeRaw  segmentsArrivalAirportCode  \\\n",
       "0  2022-04-17T15:26:00.000-04:00                         BOS   \n",
       "1  2022-04-17T09:00:00.000-04:00                         BOS   \n",
       "2  2022-04-17T14:05:00.000-04:00                         BOS   \n",
       "3  2022-04-17T16:31:00.000-04:00                         BOS   \n",
       "4  2022-04-17T12:33:00.000-04:00                         BOS   \n",
       "\n",
       "   segmentsDepartureAirportCode  segmentsAirlineName segmentsAirlineCode  \\\n",
       "0                           ATL                Delta                  DL   \n",
       "1                           ATL                Delta                  DL   \n",
       "2                           ATL                Delta                  DL   \n",
       "3                           ATL                Delta                  DL   \n",
       "4                           ATL                Delta                  DL   \n",
       "\n",
       "  segmentsEquipmentDescription segmentsDurationInSeconds segmentsDistance  \\\n",
       "0                  Airbus A321                      8940              947   \n",
       "1                  Airbus A321                      9000              947   \n",
       "2               Boeing 757-200                      9000              947   \n",
       "3                  Airbus A321                      9120              947   \n",
       "4                  Airbus A321                      9240              947   \n",
       "\n",
       "  segmentsCabinCode  \n",
       "0             coach  \n",
       "1             coach  \n",
       "2             coach  \n",
       "3             coach  \n",
       "4             coach  \n",
       "\n",
       "[5 rows x 27 columns]"
      ],
      "text/html": [
       "<div>\n",
       "<style scoped>\n",
       "    .dataframe tbody tr th:only-of-type {\n",
       "        vertical-align: middle;\n",
       "    }\n",
       "\n",
       "    .dataframe tbody tr th {\n",
       "        vertical-align: top;\n",
       "    }\n",
       "\n",
       "    .dataframe thead th {\n",
       "        text-align: right;\n",
       "    }\n",
       "</style>\n",
       "<table border=\"1\" class=\"dataframe\">\n",
       "  <thead>\n",
       "    <tr style=\"text-align: right;\">\n",
       "      <th></th>\n",
       "      <th>legId</th>\n",
       "      <th>searchDate</th>\n",
       "      <th>flightDate</th>\n",
       "      <th>startingAirport</th>\n",
       "      <th>destinationAirport</th>\n",
       "      <th>fareBasisCode</th>\n",
       "      <th>travelDuration</th>\n",
       "      <th>elapsedDays</th>\n",
       "      <th>isBasicEconomy</th>\n",
       "      <th>isRefundable</th>\n",
       "      <th>...</th>\n",
       "      <th>segmentsArrivalTimeEpochSeconds</th>\n",
       "      <th>segmentsArrivalTimeRaw</th>\n",
       "      <th>segmentsArrivalAirportCode</th>\n",
       "      <th>segmentsDepartureAirportCode</th>\n",
       "      <th>segmentsAirlineName</th>\n",
       "      <th>segmentsAirlineCode</th>\n",
       "      <th>segmentsEquipmentDescription</th>\n",
       "      <th>segmentsDurationInSeconds</th>\n",
       "      <th>segmentsDistance</th>\n",
       "      <th>segmentsCabinCode</th>\n",
       "    </tr>\n",
       "  </thead>\n",
       "  <tbody>\n",
       "    <tr>\n",
       "      <th>0</th>\n",
       "      <td>9ca0e81111c683bec1012473feefd28f</td>\n",
       "      <td>2022-04-16</td>\n",
       "      <td>2022-04-17</td>\n",
       "      <td>ATL</td>\n",
       "      <td>BOS</td>\n",
       "      <td>LA0NX0MC</td>\n",
       "      <td>PT2H29M</td>\n",
       "      <td>0</td>\n",
       "      <td>False</td>\n",
       "      <td>False</td>\n",
       "      <td>...</td>\n",
       "      <td>1650223560</td>\n",
       "      <td>2022-04-17T15:26:00.000-04:00</td>\n",
       "      <td>BOS</td>\n",
       "      <td>ATL</td>\n",
       "      <td>Delta</td>\n",
       "      <td>DL</td>\n",
       "      <td>Airbus A321</td>\n",
       "      <td>8940</td>\n",
       "      <td>947</td>\n",
       "      <td>coach</td>\n",
       "    </tr>\n",
       "    <tr>\n",
       "      <th>1</th>\n",
       "      <td>98685953630e772a098941b71906592b</td>\n",
       "      <td>2022-04-16</td>\n",
       "      <td>2022-04-17</td>\n",
       "      <td>ATL</td>\n",
       "      <td>BOS</td>\n",
       "      <td>LA0NX0MC</td>\n",
       "      <td>PT2H30M</td>\n",
       "      <td>0</td>\n",
       "      <td>False</td>\n",
       "      <td>False</td>\n",
       "      <td>...</td>\n",
       "      <td>1650200400</td>\n",
       "      <td>2022-04-17T09:00:00.000-04:00</td>\n",
       "      <td>BOS</td>\n",
       "      <td>ATL</td>\n",
       "      <td>Delta</td>\n",
       "      <td>DL</td>\n",
       "      <td>Airbus A321</td>\n",
       "      <td>9000</td>\n",
       "      <td>947</td>\n",
       "      <td>coach</td>\n",
       "    </tr>\n",
       "    <tr>\n",
       "      <th>2</th>\n",
       "      <td>98d90cbc32bfbb05c2fc32897c7c1087</td>\n",
       "      <td>2022-04-16</td>\n",
       "      <td>2022-04-17</td>\n",
       "      <td>ATL</td>\n",
       "      <td>BOS</td>\n",
       "      <td>LA0NX0MC</td>\n",
       "      <td>PT2H30M</td>\n",
       "      <td>0</td>\n",
       "      <td>False</td>\n",
       "      <td>False</td>\n",
       "      <td>...</td>\n",
       "      <td>1650218700</td>\n",
       "      <td>2022-04-17T14:05:00.000-04:00</td>\n",
       "      <td>BOS</td>\n",
       "      <td>ATL</td>\n",
       "      <td>Delta</td>\n",
       "      <td>DL</td>\n",
       "      <td>Boeing 757-200</td>\n",
       "      <td>9000</td>\n",
       "      <td>947</td>\n",
       "      <td>coach</td>\n",
       "    </tr>\n",
       "    <tr>\n",
       "      <th>3</th>\n",
       "      <td>969a269d38eae583f455486fa90877b4</td>\n",
       "      <td>2022-04-16</td>\n",
       "      <td>2022-04-17</td>\n",
       "      <td>ATL</td>\n",
       "      <td>BOS</td>\n",
       "      <td>LA0NX0MC</td>\n",
       "      <td>PT2H32M</td>\n",
       "      <td>0</td>\n",
       "      <td>False</td>\n",
       "      <td>False</td>\n",
       "      <td>...</td>\n",
       "      <td>1650227460</td>\n",
       "      <td>2022-04-17T16:31:00.000-04:00</td>\n",
       "      <td>BOS</td>\n",
       "      <td>ATL</td>\n",
       "      <td>Delta</td>\n",
       "      <td>DL</td>\n",
       "      <td>Airbus A321</td>\n",
       "      <td>9120</td>\n",
       "      <td>947</td>\n",
       "      <td>coach</td>\n",
       "    </tr>\n",
       "    <tr>\n",
       "      <th>4</th>\n",
       "      <td>980370cf27c89b40d2833a1d5afc9751</td>\n",
       "      <td>2022-04-16</td>\n",
       "      <td>2022-04-17</td>\n",
       "      <td>ATL</td>\n",
       "      <td>BOS</td>\n",
       "      <td>LA0NX0MC</td>\n",
       "      <td>PT2H34M</td>\n",
       "      <td>0</td>\n",
       "      <td>False</td>\n",
       "      <td>False</td>\n",
       "      <td>...</td>\n",
       "      <td>1650213180</td>\n",
       "      <td>2022-04-17T12:33:00.000-04:00</td>\n",
       "      <td>BOS</td>\n",
       "      <td>ATL</td>\n",
       "      <td>Delta</td>\n",
       "      <td>DL</td>\n",
       "      <td>Airbus A321</td>\n",
       "      <td>9240</td>\n",
       "      <td>947</td>\n",
       "      <td>coach</td>\n",
       "    </tr>\n",
       "  </tbody>\n",
       "</table>\n",
       "<p>5 rows × 27 columns</p>\n",
       "</div>"
      ]
     },
     "execution_count": 73,
     "metadata": {},
     "output_type": "execute_result"
    }
   ],
   "execution_count": 73
  },
  {
   "metadata": {
    "ExecuteTime": {
     "end_time": "2025-07-22T20:49:31.793399Z",
     "start_time": "2025-07-22T20:49:31.787346Z"
    }
   },
   "cell_type": "code",
   "source": "eda_df.dtypes",
   "id": "54e579a71720980",
   "outputs": [
    {
     "data": {
      "text/plain": [
       "legId                                 object\n",
       "searchDate                            object\n",
       "flightDate                            object\n",
       "startingAirport                       object\n",
       "destinationAirport                    object\n",
       "fareBasisCode                         object\n",
       "travelDuration                        object\n",
       "elapsedDays                            int64\n",
       "isBasicEconomy                          bool\n",
       "isRefundable                            bool\n",
       "isNonStop                               bool\n",
       "baseFare                             float64\n",
       "totalFare                            float64\n",
       "seatsRemaining                         int64\n",
       "totalTravelDistance                  float64\n",
       "segmentsDepartureTimeEpochSeconds     object\n",
       "segmentsDepartureTimeRaw              object\n",
       "segmentsArrivalTimeEpochSeconds       object\n",
       "segmentsArrivalTimeRaw                object\n",
       "segmentsArrivalAirportCode            object\n",
       "segmentsDepartureAirportCode          object\n",
       "segmentsAirlineName                   object\n",
       "segmentsAirlineCode                   object\n",
       "segmentsEquipmentDescription          object\n",
       "segmentsDurationInSeconds             object\n",
       "segmentsDistance                      object\n",
       "segmentsCabinCode                     object\n",
       "dtype: object"
      ]
     },
     "execution_count": 8,
     "metadata": {},
     "output_type": "execute_result"
    }
   ],
   "execution_count": 8
  },
  {
   "metadata": {
    "ExecuteTime": {
     "end_time": "2025-07-22T22:02:47.985128Z",
     "start_time": "2025-07-22T22:02:47.980428Z"
    }
   },
   "cell_type": "code",
   "source": "eda_df.columns",
   "id": "e2d0cb310734a78c",
   "outputs": [
    {
     "data": {
      "text/plain": [
       "Index(['legId', 'searchDate', 'flightDate', 'startingAirport',\n",
       "       'destinationAirport', 'fareBasisCode', 'travelDuration', 'elapsedDays',\n",
       "       'isBasicEconomy', 'isRefundable', 'isNonStop', 'baseFare', 'totalFare',\n",
       "       'seatsRemaining', 'totalTravelDistance',\n",
       "       'segmentsDepartureTimeEpochSeconds', 'segmentsDepartureTimeRaw',\n",
       "       'segmentsArrivalTimeEpochSeconds', 'segmentsArrivalTimeRaw',\n",
       "       'segmentsArrivalAirportCode', 'segmentsDepartureAirportCode',\n",
       "       'segmentsAirlineName', 'segmentsAirlineCode',\n",
       "       'segmentsEquipmentDescription', 'segmentsDurationInSeconds',\n",
       "       'segmentsDistance', 'segmentsCabinCode'],\n",
       "      dtype='object')"
      ]
     },
     "execution_count": 10,
     "metadata": {},
     "output_type": "execute_result"
    }
   ],
   "execution_count": 10
  },
  {
   "metadata": {},
   "cell_type": "markdown",
   "source": [
    "#### Columns To Remove: Why Remove Them\n",
    "- fareBasisCode: don't know what this means\n",
    "- elapsedDays: don't think this impacts price much, usually 0\n",
    "- segmentsDepartureTimeEpochSeconds: likely impacts price but choosing to not include\n",
    "- segmentsDepartureTimeRaw: likely impacts price but choosing to not include\n",
    "- segmentsArrivalTimeEpochSeconds: likely impacts price but choosing to not include\n",
    "- segmentsArrivalTimeEpochSeconds: likely impacts price but choosing to not include\n",
    "- segmentsArrivalTimeRaw: likely impacts price but choosing to not include\n",
    "- segmentsArrivalAirportCode: focusing on departure and destination not layovers\n",
    "- segmentsDepartureAirportCode: focusing on departure and destination not layovers\n",
    "- segmentsAirlineCode: using the airline name\n",
    "- segmentsEquipmentDescription: don't care about the type of plane\n",
    "\n"
   ],
   "id": "cb4e8a8bd214c63e"
  },
  {
   "metadata": {
    "ExecuteTime": {
     "end_time": "2025-08-01T17:51:04.439366Z",
     "start_time": "2025-08-01T17:51:04.213669Z"
    }
   },
   "cell_type": "code",
   "source": [
    "#file still to large, re-importing with dask\n",
    "import dask.dataframe as dd\n",
    "flight_df = dd.read_csv('itineraries.csv', usecols=['legId', 'searchDate', 'flightDate', 'startingAirport',\n",
    "       'destinationAirport', 'travelDuration',\n",
    "       'isBasicEconomy', 'isRefundable', 'isNonStop', 'baseFare', 'totalFare',\n",
    "       'seatsRemaining', 'totalTravelDistance',\n",
    "       'segmentsAirlineName', 'segmentsDurationInSeconds',\n",
    "       'segmentsDistance', 'segmentsCabinCode'], assume_missing=True, dtype_backend=\"numpy_nullable\")\n"
   ],
   "id": "8b17c26bf89d2ee2",
   "outputs": [],
   "execution_count": 90
  },
  {
   "metadata": {
    "ExecuteTime": {
     "end_time": "2025-08-01T17:51:07.946548Z",
     "start_time": "2025-08-01T17:51:07.052317Z"
    }
   },
   "cell_type": "code",
   "source": "flight_df.head()",
   "id": "b6e3d13a114c69cf",
   "outputs": [
    {
     "data": {
      "text/plain": [
       "                              legId  searchDate  flightDate startingAirport  \\\n",
       "0  9ca0e81111c683bec1012473feefd28f  2022-04-16  2022-04-17             ATL   \n",
       "1  98685953630e772a098941b71906592b  2022-04-16  2022-04-17             ATL   \n",
       "2  98d90cbc32bfbb05c2fc32897c7c1087  2022-04-16  2022-04-17             ATL   \n",
       "3  969a269d38eae583f455486fa90877b4  2022-04-16  2022-04-17             ATL   \n",
       "4  980370cf27c89b40d2833a1d5afc9751  2022-04-16  2022-04-17             ATL   \n",
       "\n",
       "  destinationAirport travelDuration  isBasicEconomy  isRefundable  isNonStop  \\\n",
       "0                BOS        PT2H29M           False         False       True   \n",
       "1                BOS        PT2H30M           False         False       True   \n",
       "2                BOS        PT2H30M           False         False       True   \n",
       "3                BOS        PT2H32M           False         False       True   \n",
       "4                BOS        PT2H34M           False         False       True   \n",
       "\n",
       "   baseFare  totalFare  seatsRemaining  totalTravelDistance  \\\n",
       "0    217.67      248.6             9.0                947.0   \n",
       "1    217.67      248.6             4.0                947.0   \n",
       "2    217.67      248.6             9.0                947.0   \n",
       "3    217.67      248.6             8.0                947.0   \n",
       "4    217.67      248.6             9.0                947.0   \n",
       "\n",
       "  segmentsAirlineName segmentsDurationInSeconds segmentsDistance  \\\n",
       "0               Delta                      8940              947   \n",
       "1               Delta                      9000              947   \n",
       "2               Delta                      9000              947   \n",
       "3               Delta                      9120              947   \n",
       "4               Delta                      9240              947   \n",
       "\n",
       "  segmentsCabinCode  \n",
       "0             coach  \n",
       "1             coach  \n",
       "2             coach  \n",
       "3             coach  \n",
       "4             coach  "
      ],
      "text/html": [
       "<div>\n",
       "<style scoped>\n",
       "    .dataframe tbody tr th:only-of-type {\n",
       "        vertical-align: middle;\n",
       "    }\n",
       "\n",
       "    .dataframe tbody tr th {\n",
       "        vertical-align: top;\n",
       "    }\n",
       "\n",
       "    .dataframe thead th {\n",
       "        text-align: right;\n",
       "    }\n",
       "</style>\n",
       "<table border=\"1\" class=\"dataframe\">\n",
       "  <thead>\n",
       "    <tr style=\"text-align: right;\">\n",
       "      <th></th>\n",
       "      <th>legId</th>\n",
       "      <th>searchDate</th>\n",
       "      <th>flightDate</th>\n",
       "      <th>startingAirport</th>\n",
       "      <th>destinationAirport</th>\n",
       "      <th>travelDuration</th>\n",
       "      <th>isBasicEconomy</th>\n",
       "      <th>isRefundable</th>\n",
       "      <th>isNonStop</th>\n",
       "      <th>baseFare</th>\n",
       "      <th>totalFare</th>\n",
       "      <th>seatsRemaining</th>\n",
       "      <th>totalTravelDistance</th>\n",
       "      <th>segmentsAirlineName</th>\n",
       "      <th>segmentsDurationInSeconds</th>\n",
       "      <th>segmentsDistance</th>\n",
       "      <th>segmentsCabinCode</th>\n",
       "    </tr>\n",
       "  </thead>\n",
       "  <tbody>\n",
       "    <tr>\n",
       "      <th>0</th>\n",
       "      <td>9ca0e81111c683bec1012473feefd28f</td>\n",
       "      <td>2022-04-16</td>\n",
       "      <td>2022-04-17</td>\n",
       "      <td>ATL</td>\n",
       "      <td>BOS</td>\n",
       "      <td>PT2H29M</td>\n",
       "      <td>False</td>\n",
       "      <td>False</td>\n",
       "      <td>True</td>\n",
       "      <td>217.67</td>\n",
       "      <td>248.6</td>\n",
       "      <td>9.0</td>\n",
       "      <td>947.0</td>\n",
       "      <td>Delta</td>\n",
       "      <td>8940</td>\n",
       "      <td>947</td>\n",
       "      <td>coach</td>\n",
       "    </tr>\n",
       "    <tr>\n",
       "      <th>1</th>\n",
       "      <td>98685953630e772a098941b71906592b</td>\n",
       "      <td>2022-04-16</td>\n",
       "      <td>2022-04-17</td>\n",
       "      <td>ATL</td>\n",
       "      <td>BOS</td>\n",
       "      <td>PT2H30M</td>\n",
       "      <td>False</td>\n",
       "      <td>False</td>\n",
       "      <td>True</td>\n",
       "      <td>217.67</td>\n",
       "      <td>248.6</td>\n",
       "      <td>4.0</td>\n",
       "      <td>947.0</td>\n",
       "      <td>Delta</td>\n",
       "      <td>9000</td>\n",
       "      <td>947</td>\n",
       "      <td>coach</td>\n",
       "    </tr>\n",
       "    <tr>\n",
       "      <th>2</th>\n",
       "      <td>98d90cbc32bfbb05c2fc32897c7c1087</td>\n",
       "      <td>2022-04-16</td>\n",
       "      <td>2022-04-17</td>\n",
       "      <td>ATL</td>\n",
       "      <td>BOS</td>\n",
       "      <td>PT2H30M</td>\n",
       "      <td>False</td>\n",
       "      <td>False</td>\n",
       "      <td>True</td>\n",
       "      <td>217.67</td>\n",
       "      <td>248.6</td>\n",
       "      <td>9.0</td>\n",
       "      <td>947.0</td>\n",
       "      <td>Delta</td>\n",
       "      <td>9000</td>\n",
       "      <td>947</td>\n",
       "      <td>coach</td>\n",
       "    </tr>\n",
       "    <tr>\n",
       "      <th>3</th>\n",
       "      <td>969a269d38eae583f455486fa90877b4</td>\n",
       "      <td>2022-04-16</td>\n",
       "      <td>2022-04-17</td>\n",
       "      <td>ATL</td>\n",
       "      <td>BOS</td>\n",
       "      <td>PT2H32M</td>\n",
       "      <td>False</td>\n",
       "      <td>False</td>\n",
       "      <td>True</td>\n",
       "      <td>217.67</td>\n",
       "      <td>248.6</td>\n",
       "      <td>8.0</td>\n",
       "      <td>947.0</td>\n",
       "      <td>Delta</td>\n",
       "      <td>9120</td>\n",
       "      <td>947</td>\n",
       "      <td>coach</td>\n",
       "    </tr>\n",
       "    <tr>\n",
       "      <th>4</th>\n",
       "      <td>980370cf27c89b40d2833a1d5afc9751</td>\n",
       "      <td>2022-04-16</td>\n",
       "      <td>2022-04-17</td>\n",
       "      <td>ATL</td>\n",
       "      <td>BOS</td>\n",
       "      <td>PT2H34M</td>\n",
       "      <td>False</td>\n",
       "      <td>False</td>\n",
       "      <td>True</td>\n",
       "      <td>217.67</td>\n",
       "      <td>248.6</td>\n",
       "      <td>9.0</td>\n",
       "      <td>947.0</td>\n",
       "      <td>Delta</td>\n",
       "      <td>9240</td>\n",
       "      <td>947</td>\n",
       "      <td>coach</td>\n",
       "    </tr>\n",
       "  </tbody>\n",
       "</table>\n",
       "</div>"
      ]
     },
     "execution_count": 91,
     "metadata": {},
     "output_type": "execute_result"
    }
   ],
   "execution_count": 91
  },
  {
   "metadata": {
    "ExecuteTime": {
     "end_time": "2025-08-01T17:51:11.048856Z",
     "start_time": "2025-08-01T17:51:11.038563Z"
    }
   },
   "cell_type": "code",
   "source": "flight_df.dtypes\n",
   "id": "6cf2785f03c670ec",
   "outputs": [
    {
     "data": {
      "text/plain": [
       "legId                        string[pyarrow]\n",
       "searchDate                   string[pyarrow]\n",
       "flightDate                   string[pyarrow]\n",
       "startingAirport              string[pyarrow]\n",
       "destinationAirport           string[pyarrow]\n",
       "travelDuration               string[pyarrow]\n",
       "isBasicEconomy                       boolean\n",
       "isRefundable                         boolean\n",
       "isNonStop                            boolean\n",
       "baseFare                             Float64\n",
       "totalFare                            Float64\n",
       "seatsRemaining                       float64\n",
       "totalTravelDistance                  float64\n",
       "segmentsAirlineName          string[pyarrow]\n",
       "segmentsDurationInSeconds    string[pyarrow]\n",
       "segmentsDistance             string[pyarrow]\n",
       "segmentsCabinCode            string[pyarrow]\n",
       "dtype: object"
      ]
     },
     "execution_count": 92,
     "metadata": {},
     "output_type": "execute_result"
    }
   ],
   "execution_count": 92
  },
  {
   "metadata": {
    "ExecuteTime": {
     "end_time": "2025-07-25T22:00:37.652603Z",
     "start_time": "2025-07-25T22:00:37.643419Z"
    }
   },
   "cell_type": "code",
   "source": "from dask.diagnostics import ProgressBar",
   "id": "f31bde642c5690b0",
   "outputs": [],
   "execution_count": 4
  },
  {
   "metadata": {
    "ExecuteTime": {
     "end_time": "2025-08-01T17:55:27.566369Z",
     "start_time": "2025-08-01T17:51:43.978764Z"
    }
   },
   "cell_type": "code",
   "source": [
    "with ProgressBar():\n",
    "    size = flight_df.shape[0].compute()"
   ],
   "id": "f5bc19ba126d0c3d",
   "outputs": [
    {
     "name": "stdout",
     "output_type": "stream",
     "text": [
      "[########################################] | 100% Completed | 223.55 s\n"
     ]
    }
   ],
   "execution_count": 93
  },
  {
   "metadata": {
    "ExecuteTime": {
     "end_time": "2025-08-01T17:55:34.974470Z",
     "start_time": "2025-08-01T17:55:34.961815Z"
    }
   },
   "cell_type": "code",
   "source": "print(size)",
   "id": "76febf2d78a1733e",
   "outputs": [
    {
     "name": "stdout",
     "output_type": "stream",
     "text": [
      "82138753\n"
     ]
    }
   ],
   "execution_count": 94
  },
  {
   "metadata": {
    "ExecuteTime": {
     "end_time": "2025-08-01T18:01:17.231575Z",
     "start_time": "2025-08-01T17:55:45.973338Z"
    }
   },
   "cell_type": "code",
   "source": [
    "#missing values by column\n",
    "with ProgressBar():\n",
    "    percent_missing_values = ((flight_df.isnull().sum() / flight_df.size) * 100).compute()\n",
    "\n",
    "percent_missing_values"
   ],
   "id": "5a05d0edfa201527",
   "outputs": [
    {
     "name": "stdout",
     "output_type": "stream",
     "text": [
      "[########################################] | 100% Completed | 331.19 s\n"
     ]
    },
    {
     "data": {
      "text/plain": [
       "legId                        0.000000\n",
       "searchDate                   0.000000\n",
       "flightDate                   0.000000\n",
       "startingAirport              0.000000\n",
       "destinationAirport           0.000000\n",
       "travelDuration               0.000000\n",
       "isBasicEconomy               0.000000\n",
       "isRefundable                 0.000000\n",
       "isNonStop                    0.000000\n",
       "baseFare                     0.000000\n",
       "totalFare                    0.000000\n",
       "seatsRemaining               0.000000\n",
       "totalTravelDistance          0.436459\n",
       "segmentsAirlineName          0.000000\n",
       "segmentsDurationInSeconds    0.000000\n",
       "segmentsDistance             0.061103\n",
       "segmentsCabinCode            0.000000\n",
       "dtype: float64"
      ]
     },
     "execution_count": 95,
     "metadata": {},
     "output_type": "execute_result"
    }
   ],
   "execution_count": 95
  },
  {
   "metadata": {
    "ExecuteTime": {
     "end_time": "2025-07-23T22:42:27.409151Z",
     "start_time": "2025-07-23T22:38:25.774530Z"
    }
   },
   "cell_type": "code",
   "source": [
    "# number of nonstop records\n",
    "with ProgressBar():\n",
    "    nonstop_count = flight_df['isNonStop'].value_counts().compute()\n",
    "\n",
    "nonstop_count"
   ],
   "id": "85964ea9f71d6b55",
   "outputs": [
    {
     "name": "stdout",
     "output_type": "stream",
     "text": [
      "[########################################] | 100% Completed | 241.55 s\n"
     ]
    },
    {
     "data": {
      "text/plain": [
       "isNonStop\n",
       "True     22066888\n",
       "False    60071865\n",
       "Name: count, dtype: Int64"
      ]
     },
     "execution_count": 9,
     "metadata": {},
     "output_type": "execute_result"
    }
   ],
   "execution_count": 9
  },
  {
   "metadata": {
    "ExecuteTime": {
     "end_time": "2025-07-23T22:58:25.200522Z",
     "start_time": "2025-07-23T22:49:32.715911Z"
    }
   },
   "cell_type": "code",
   "source": [
    "# number of nonstop records\n",
    "with ProgressBar():\n",
    "    airport_starting = flight_df['startingAirport'].value_counts().compute()\n",
    "    airport_destination = flight_df['destinationAirport'].value_counts().compute()\n",
    "\n",
    "airport_destination"
   ],
   "id": "e10b8711fb754527",
   "outputs": [
    {
     "name": "stdout",
     "output_type": "stream",
     "text": [
      "[########################################] | 100% Completed | 263.89 s\n",
      "[########################################] | 100% Completed | 268.47 s\n"
     ]
    },
    {
     "data": {
      "text/plain": [
       "destinationAirport\n",
       "ORD    5717699\n",
       "OAK    3657923\n",
       "DFW    5957280\n",
       "DEN    4630696\n",
       "CLT    5411448\n",
       "BOS    5801538\n",
       "EWR    4074698\n",
       "JFK    4413765\n",
       "SFO    5586204\n",
       "ATL    5211169\n",
       "MIA    5103390\n",
       "IAD    3312681\n",
       "DTW    4456269\n",
       "LAX    8006721\n",
       "PHL    4703822\n",
       "LGA    6093450\n",
       "Name: count, dtype: int64[pyarrow]"
      ]
     },
     "execution_count": 10,
     "metadata": {},
     "output_type": "execute_result"
    }
   ],
   "execution_count": 10
  },
  {
   "metadata": {
    "ExecuteTime": {
     "end_time": "2025-07-23T22:59:00.117705Z",
     "start_time": "2025-07-23T22:59:00.099971Z"
    }
   },
   "cell_type": "code",
   "source": "airport_starting",
   "id": "bcf24089f851c22d",
   "outputs": [
    {
     "data": {
      "text/plain": [
       "startingAirport\n",
       "ORD    5503476\n",
       "OAK    3809884\n",
       "DFW    5674959\n",
       "DEN    4697143\n",
       "CLT    5494510\n",
       "BOS    5883876\n",
       "EWR    3970797\n",
       "JFK    4425164\n",
       "SFO    5706482\n",
       "ATL    5312028\n",
       "MIA    4930213\n",
       "IAD    3464378\n",
       "DTW    4547052\n",
       "LAX    8073281\n",
       "PHL    4726187\n",
       "LGA    5919323\n",
       "Name: count, dtype: int64[pyarrow]"
      ]
     },
     "execution_count": 11,
     "metadata": {},
     "output_type": "execute_result"
    }
   ],
   "execution_count": 11
  },
  {
   "metadata": {},
   "cell_type": "markdown",
   "source": "#### Exploring the Nonstop Flight Data",
   "id": "e44dd224e7b4d3c2"
  },
  {
   "metadata": {
    "ExecuteTime": {
     "end_time": "2025-08-01T19:11:03.437172Z",
     "start_time": "2025-08-01T19:11:02.786091Z"
    }
   },
   "cell_type": "code",
   "source": [
    "#filtering for nonstop flights\n",
    "\n",
    "nonstop_df = flight_df[flight_df['isNonStop'] == 1]\n",
    "nonstop_df.head()"
   ],
   "id": "de44506df2028afa",
   "outputs": [
    {
     "data": {
      "text/plain": [
       "                              legId  searchDate  flightDate startingAirport  \\\n",
       "0  9ca0e81111c683bec1012473feefd28f  2022-04-16  2022-04-17             ATL   \n",
       "1  98685953630e772a098941b71906592b  2022-04-16  2022-04-17             ATL   \n",
       "2  98d90cbc32bfbb05c2fc32897c7c1087  2022-04-16  2022-04-17             ATL   \n",
       "3  969a269d38eae583f455486fa90877b4  2022-04-16  2022-04-17             ATL   \n",
       "4  980370cf27c89b40d2833a1d5afc9751  2022-04-16  2022-04-17             ATL   \n",
       "\n",
       "  destinationAirport travelDuration  isBasicEconomy  isRefundable  isNonStop  \\\n",
       "0                BOS        PT2H29M           False         False       True   \n",
       "1                BOS        PT2H30M           False         False       True   \n",
       "2                BOS        PT2H30M           False         False       True   \n",
       "3                BOS        PT2H32M           False         False       True   \n",
       "4                BOS        PT2H34M           False         False       True   \n",
       "\n",
       "   baseFare  totalFare  seatsRemaining  totalTravelDistance  \\\n",
       "0    217.67      248.6             9.0                947.0   \n",
       "1    217.67      248.6             4.0                947.0   \n",
       "2    217.67      248.6             9.0                947.0   \n",
       "3    217.67      248.6             8.0                947.0   \n",
       "4    217.67      248.6             9.0                947.0   \n",
       "\n",
       "  segmentsAirlineName segmentsDurationInSeconds segmentsDistance  \\\n",
       "0               Delta                      8940              947   \n",
       "1               Delta                      9000              947   \n",
       "2               Delta                      9000              947   \n",
       "3               Delta                      9120              947   \n",
       "4               Delta                      9240              947   \n",
       "\n",
       "  segmentsCabinCode  \n",
       "0             coach  \n",
       "1             coach  \n",
       "2             coach  \n",
       "3             coach  \n",
       "4             coach  "
      ],
      "text/html": [
       "<div>\n",
       "<style scoped>\n",
       "    .dataframe tbody tr th:only-of-type {\n",
       "        vertical-align: middle;\n",
       "    }\n",
       "\n",
       "    .dataframe tbody tr th {\n",
       "        vertical-align: top;\n",
       "    }\n",
       "\n",
       "    .dataframe thead th {\n",
       "        text-align: right;\n",
       "    }\n",
       "</style>\n",
       "<table border=\"1\" class=\"dataframe\">\n",
       "  <thead>\n",
       "    <tr style=\"text-align: right;\">\n",
       "      <th></th>\n",
       "      <th>legId</th>\n",
       "      <th>searchDate</th>\n",
       "      <th>flightDate</th>\n",
       "      <th>startingAirport</th>\n",
       "      <th>destinationAirport</th>\n",
       "      <th>travelDuration</th>\n",
       "      <th>isBasicEconomy</th>\n",
       "      <th>isRefundable</th>\n",
       "      <th>isNonStop</th>\n",
       "      <th>baseFare</th>\n",
       "      <th>totalFare</th>\n",
       "      <th>seatsRemaining</th>\n",
       "      <th>totalTravelDistance</th>\n",
       "      <th>segmentsAirlineName</th>\n",
       "      <th>segmentsDurationInSeconds</th>\n",
       "      <th>segmentsDistance</th>\n",
       "      <th>segmentsCabinCode</th>\n",
       "    </tr>\n",
       "  </thead>\n",
       "  <tbody>\n",
       "    <tr>\n",
       "      <th>0</th>\n",
       "      <td>9ca0e81111c683bec1012473feefd28f</td>\n",
       "      <td>2022-04-16</td>\n",
       "      <td>2022-04-17</td>\n",
       "      <td>ATL</td>\n",
       "      <td>BOS</td>\n",
       "      <td>PT2H29M</td>\n",
       "      <td>False</td>\n",
       "      <td>False</td>\n",
       "      <td>True</td>\n",
       "      <td>217.67</td>\n",
       "      <td>248.6</td>\n",
       "      <td>9.0</td>\n",
       "      <td>947.0</td>\n",
       "      <td>Delta</td>\n",
       "      <td>8940</td>\n",
       "      <td>947</td>\n",
       "      <td>coach</td>\n",
       "    </tr>\n",
       "    <tr>\n",
       "      <th>1</th>\n",
       "      <td>98685953630e772a098941b71906592b</td>\n",
       "      <td>2022-04-16</td>\n",
       "      <td>2022-04-17</td>\n",
       "      <td>ATL</td>\n",
       "      <td>BOS</td>\n",
       "      <td>PT2H30M</td>\n",
       "      <td>False</td>\n",
       "      <td>False</td>\n",
       "      <td>True</td>\n",
       "      <td>217.67</td>\n",
       "      <td>248.6</td>\n",
       "      <td>4.0</td>\n",
       "      <td>947.0</td>\n",
       "      <td>Delta</td>\n",
       "      <td>9000</td>\n",
       "      <td>947</td>\n",
       "      <td>coach</td>\n",
       "    </tr>\n",
       "    <tr>\n",
       "      <th>2</th>\n",
       "      <td>98d90cbc32bfbb05c2fc32897c7c1087</td>\n",
       "      <td>2022-04-16</td>\n",
       "      <td>2022-04-17</td>\n",
       "      <td>ATL</td>\n",
       "      <td>BOS</td>\n",
       "      <td>PT2H30M</td>\n",
       "      <td>False</td>\n",
       "      <td>False</td>\n",
       "      <td>True</td>\n",
       "      <td>217.67</td>\n",
       "      <td>248.6</td>\n",
       "      <td>9.0</td>\n",
       "      <td>947.0</td>\n",
       "      <td>Delta</td>\n",
       "      <td>9000</td>\n",
       "      <td>947</td>\n",
       "      <td>coach</td>\n",
       "    </tr>\n",
       "    <tr>\n",
       "      <th>3</th>\n",
       "      <td>969a269d38eae583f455486fa90877b4</td>\n",
       "      <td>2022-04-16</td>\n",
       "      <td>2022-04-17</td>\n",
       "      <td>ATL</td>\n",
       "      <td>BOS</td>\n",
       "      <td>PT2H32M</td>\n",
       "      <td>False</td>\n",
       "      <td>False</td>\n",
       "      <td>True</td>\n",
       "      <td>217.67</td>\n",
       "      <td>248.6</td>\n",
       "      <td>8.0</td>\n",
       "      <td>947.0</td>\n",
       "      <td>Delta</td>\n",
       "      <td>9120</td>\n",
       "      <td>947</td>\n",
       "      <td>coach</td>\n",
       "    </tr>\n",
       "    <tr>\n",
       "      <th>4</th>\n",
       "      <td>980370cf27c89b40d2833a1d5afc9751</td>\n",
       "      <td>2022-04-16</td>\n",
       "      <td>2022-04-17</td>\n",
       "      <td>ATL</td>\n",
       "      <td>BOS</td>\n",
       "      <td>PT2H34M</td>\n",
       "      <td>False</td>\n",
       "      <td>False</td>\n",
       "      <td>True</td>\n",
       "      <td>217.67</td>\n",
       "      <td>248.6</td>\n",
       "      <td>9.0</td>\n",
       "      <td>947.0</td>\n",
       "      <td>Delta</td>\n",
       "      <td>9240</td>\n",
       "      <td>947</td>\n",
       "      <td>coach</td>\n",
       "    </tr>\n",
       "  </tbody>\n",
       "</table>\n",
       "</div>"
      ]
     },
     "execution_count": 123,
     "metadata": {},
     "output_type": "execute_result"
    }
   ],
   "execution_count": 123
  },
  {
   "metadata": {
    "ExecuteTime": {
     "end_time": "2025-07-24T02:39:28.793073Z",
     "start_time": "2025-07-24T02:35:05.869159Z"
    }
   },
   "cell_type": "code",
   "source": [
    "with ProgressBar():\n",
    "    airport_starting_ns = nonstop_df['startingAirport'].value_counts().compute()\n",
    "airport_starting_ns"
   ],
   "id": "eab07742fc67fd72",
   "outputs": [
    {
     "name": "stdout",
     "output_type": "stream",
     "text": [
      "[########################################] | 100% Completed | 262.78 s\n"
     ]
    },
    {
     "data": {
      "text/plain": [
       "startingAirport\n",
       "ORD    2058013\n",
       "OAK      59862\n",
       "DFW    1651933\n",
       "DEN    1177454\n",
       "CLT    1321721\n",
       "BOS    2050948\n",
       "EWR    1378710\n",
       "JFK    1696647\n",
       "SFO    1326117\n",
       "ATL    1754889\n",
       "MIA    1353529\n",
       "IAD     642803\n",
       "DTW    1046957\n",
       "LAX    1917116\n",
       "PHL     784208\n",
       "LGA    1845981\n",
       "Name: count, dtype: int64[pyarrow]"
      ]
     },
     "execution_count": 14,
     "metadata": {},
     "output_type": "execute_result"
    }
   ],
   "execution_count": 14
  },
  {
   "metadata": {
    "ExecuteTime": {
     "end_time": "2025-07-24T02:45:55.628339Z",
     "start_time": "2025-07-24T02:41:33.529760Z"
    }
   },
   "cell_type": "code",
   "source": [
    "with ProgressBar():\n",
    "    airline_ns = nonstop_df['segmentsAirlineName'].value_counts().compute()"
   ],
   "id": "95345413aa9a7487",
   "outputs": [
    {
     "name": "stdout",
     "output_type": "stream",
     "text": [
      "[########################################] | 100% Completed | 261.96 s\n"
     ]
    }
   ],
   "execution_count": 15
  },
  {
   "metadata": {
    "ExecuteTime": {
     "end_time": "2025-07-24T02:46:40.848595Z",
     "start_time": "2025-07-24T02:46:40.843558Z"
    }
   },
   "cell_type": "code",
   "source": "airline_ns",
   "id": "728dbe9a92085e30",
   "outputs": [
    {
     "data": {
      "text/plain": [
       "segmentsAirlineName\n",
       "United               4531426\n",
       "Alaska Airlines       446001\n",
       "Frontier Airlines     466926\n",
       "JetBlue Airways      3578393\n",
       "American Airlines    7453245\n",
       "Spirit Airlines       735728\n",
       "Delta                4855169\n",
       "Name: count, dtype: int64[pyarrow]"
      ]
     },
     "execution_count": 16,
     "metadata": {},
     "output_type": "execute_result"
    }
   ],
   "execution_count": 16
  },
  {
   "metadata": {
    "ExecuteTime": {
     "end_time": "2025-07-24T17:01:55.958801Z",
     "start_time": "2025-07-24T16:57:01.103353Z"
    }
   },
   "cell_type": "code",
   "source": [
    "#get the number of nonstop flights\n",
    "with ProgressBar():\n",
    "    print(nonstop_df['legId'].unique().compute())\n"
   ],
   "id": "4adfb5011a783838",
   "outputs": [
    {
     "name": "stdout",
     "output_type": "stream",
     "text": [
      "[########################################] | 100% Completed | 294.31 s\n",
      "0       a63591f2b4df39d809c4a45a3898e122\n",
      "1       1f48703582bd06ae6a213fcfcf74675a\n",
      "2       18df042c87803919d25cbbd1961cb725\n",
      "3       cf4ebd89e2d77dd8f3fa7b11cb9014fc\n",
      "4       2192110016dc12e590d4e3ff0003f159\n",
      "                      ...               \n",
      "1384    23b38ece6081af12bfdf423ed7e74358\n",
      "1385    43ab62855c5d33c44ed2132c0b27b464\n",
      "1386    acc6d1830481facc444b1341e4f11a76\n",
      "1387    eba7d85b5623d9e37d8221d5c7d3f823\n",
      "1388    802532efaaca82fc7c1d7a6de8426690\n",
      "Name: legId, Length: 651615, dtype: string\n"
     ]
    }
   ],
   "execution_count": 24
  },
  {
   "metadata": {
    "ExecuteTime": {
     "end_time": "2025-08-01T20:18:07.090449Z",
     "start_time": "2025-08-01T20:10:26.084437Z"
    }
   },
   "cell_type": "code",
   "source": [
    "#get the number of records per flight ID\n",
    "with ProgressBar():\n",
    "    num_searches = nonstop_df['legId'].value_counts().compute().sort_values()\n",
    "num_searches"
   ],
   "id": "ef66aaad991c3b42",
   "outputs": [
    {
     "name": "stdout",
     "output_type": "stream",
     "text": [
      "[########################################] | 100% Completed | 460.69 s\n"
     ]
    },
    {
     "data": {
      "text/plain": [
       "legId\n",
       "00177c3f8bdce8919a0bb2ed3b62852b     1\n",
       "045916f1507688dbcd5b235284a65e40     1\n",
       "0c9e7392d6f4639290f83b6b6c0f949e     1\n",
       "15309cd6a650304662dfff497cab0105     1\n",
       "17e3894f726cfbf801f4383fd2af68de     1\n",
       "                                    ..\n",
       "fdb3c4e88cddfe4f685d6310fefc5169    60\n",
       "fefbf5795655ea4f6d0feea2e01c4a17    60\n",
       "fea1345623050a76e9f38ec4e5f924f2    61\n",
       "6365830250822d8732e98ac28735f7b0    61\n",
       "b2feca28d8d28bff3fe8b9aae6cc9832    61\n",
       "Name: count, Length: 651615, dtype: int64[pyarrow]"
      ]
     },
     "execution_count": 145,
     "metadata": {},
     "output_type": "execute_result"
    }
   ],
   "execution_count": 145
  },
  {
   "metadata": {
    "ExecuteTime": {
     "end_time": "2025-08-01T21:46:12.306074Z",
     "start_time": "2025-08-01T21:41:29.176796Z"
    }
   },
   "cell_type": "code",
   "source": [
    "with ProgressBar():\n",
    "    legId_counts = nonstop_df.groupby('legId').size().compute()"
   ],
   "id": "5c113e1c03a2be43",
   "outputs": [
    {
     "name": "stdout",
     "output_type": "stream",
     "text": [
      "[########################################] | 100% Completed | 283.04 s\n"
     ]
    }
   ],
   "execution_count": 173
  },
  {
   "metadata": {
    "ExecuteTime": {
     "end_time": "2025-08-01T21:47:28.116414Z",
     "start_time": "2025-08-01T21:47:28.108032Z"
    }
   },
   "cell_type": "code",
   "source": [
    "legId_counts_df = legId_counts.reset_index()\n",
    "legId_counts_df.columns = ['legId', 'count']\n",
    "legId_counts_df.head()"
   ],
   "id": "30d7ae806dce3325",
   "outputs": [
    {
     "data": {
      "text/plain": [
       "                              legId  count\n",
       "0  000ed2202d16a2ff763ffb276cbee80b     13\n",
       "1  00b321198a1381bdfb166043df33a45d      4\n",
       "2  00fa74ec1f408001e8159681893577c1     15\n",
       "3  012a2879c94082eb386d571d35c6cb7d      4\n",
       "4  0132d825dfefd2fa95e117b654639b31     13"
      ],
      "text/html": [
       "<div>\n",
       "<style scoped>\n",
       "    .dataframe tbody tr th:only-of-type {\n",
       "        vertical-align: middle;\n",
       "    }\n",
       "\n",
       "    .dataframe tbody tr th {\n",
       "        vertical-align: top;\n",
       "    }\n",
       "\n",
       "    .dataframe thead th {\n",
       "        text-align: right;\n",
       "    }\n",
       "</style>\n",
       "<table border=\"1\" class=\"dataframe\">\n",
       "  <thead>\n",
       "    <tr style=\"text-align: right;\">\n",
       "      <th></th>\n",
       "      <th>legId</th>\n",
       "      <th>count</th>\n",
       "    </tr>\n",
       "  </thead>\n",
       "  <tbody>\n",
       "    <tr>\n",
       "      <th>0</th>\n",
       "      <td>000ed2202d16a2ff763ffb276cbee80b</td>\n",
       "      <td>13</td>\n",
       "    </tr>\n",
       "    <tr>\n",
       "      <th>1</th>\n",
       "      <td>00b321198a1381bdfb166043df33a45d</td>\n",
       "      <td>4</td>\n",
       "    </tr>\n",
       "    <tr>\n",
       "      <th>2</th>\n",
       "      <td>00fa74ec1f408001e8159681893577c1</td>\n",
       "      <td>15</td>\n",
       "    </tr>\n",
       "    <tr>\n",
       "      <th>3</th>\n",
       "      <td>012a2879c94082eb386d571d35c6cb7d</td>\n",
       "      <td>4</td>\n",
       "    </tr>\n",
       "    <tr>\n",
       "      <th>4</th>\n",
       "      <td>0132d825dfefd2fa95e117b654639b31</td>\n",
       "      <td>13</td>\n",
       "    </tr>\n",
       "  </tbody>\n",
       "</table>\n",
       "</div>"
      ]
     },
     "execution_count": 174,
     "metadata": {},
     "output_type": "execute_result"
    }
   ],
   "execution_count": 174
  },
  {
   "metadata": {
    "ExecuteTime": {
     "end_time": "2025-08-05T18:10:59.671910Z",
     "start_time": "2025-08-05T18:10:59.625275Z"
    }
   },
   "cell_type": "code",
   "source": [
    "ledId_sixty_df = legId_counts_df[legId_counts_df['count'] >= 60]\n",
    "ledId_sixty_df.shape"
   ],
   "id": "45c8a164eef9666",
   "outputs": [
    {
     "data": {
      "text/plain": [
       "(11136, 2)"
      ]
     },
     "execution_count": 181,
     "metadata": {},
     "output_type": "execute_result"
    }
   ],
   "execution_count": 181
  },
  {
   "metadata": {
    "ExecuteTime": {
     "end_time": "2025-08-05T18:12:59.281013Z",
     "start_time": "2025-08-05T18:12:59.242457Z"
    }
   },
   "cell_type": "code",
   "source": [
    "sixty_ids = list(ledId_sixty_df['legId'])\n",
    "len(sixty_ids)"
   ],
   "id": "ac198915a3dabebb",
   "outputs": [
    {
     "data": {
      "text/plain": [
       "11136"
      ]
     },
     "execution_count": 183,
     "metadata": {},
     "output_type": "execute_result"
    }
   ],
   "execution_count": 183
  },
  {
   "metadata": {
    "ExecuteTime": {
     "end_time": "2025-07-24T17:40:31.753762Z",
     "start_time": "2025-07-24T17:32:37.215315Z"
    }
   },
   "cell_type": "code",
   "source": [
    "#Comparing isBasicEconomy and segmentCabinCode\n",
    "with ProgressBar():\n",
    "    Cabin = nonstop_df['segmentsCabinCode'].value_counts().compute()\n",
    "    Economy_TF = nonstop_df['isBasicEconomy'].value_counts().compute()\n",
    "\n",
    "\n",
    "Economy_TF"
   ],
   "id": "550abbd930a03b8b",
   "outputs": [
    {
     "name": "stdout",
     "output_type": "stream",
     "text": [
      "[########################################] | 100% Completed | 224.87 s\n",
      "[########################################] | 100% Completed | 249.52 s\n"
     ]
    },
    {
     "data": {
      "text/plain": [
       "isBasicEconomy\n",
       "True      3569724\n",
       "False    18497164\n",
       "Name: count, dtype: Int64"
      ]
     },
     "execution_count": 27,
     "metadata": {},
     "output_type": "execute_result"
    }
   ],
   "execution_count": 27
  },
  {
   "metadata": {
    "ExecuteTime": {
     "end_time": "2025-07-24T17:40:53.640118Z",
     "start_time": "2025-07-24T17:40:53.628654Z"
    }
   },
   "cell_type": "code",
   "source": "Cabin",
   "id": "8d0106404c0a290",
   "outputs": [
    {
     "data": {
      "text/plain": [
       "segmentsCabinCode\n",
       "first               17602\n",
       "premium coach       28144\n",
       "business             9963\n",
       "coach            22011179\n",
       "Name: count, dtype: int64[pyarrow]"
      ]
     },
     "execution_count": 28,
     "metadata": {},
     "output_type": "execute_result"
    }
   ],
   "execution_count": 28
  },
  {
   "metadata": {
    "ExecuteTime": {
     "end_time": "2025-07-24T17:46:30.945438Z",
     "start_time": "2025-07-24T17:46:30.927995Z"
    }
   },
   "cell_type": "code",
   "source": "print(Cabin['coach'] == Economy_TF[0])\n",
   "id": "73eb7145d3d610fb",
   "outputs": [
    {
     "name": "stdout",
     "output_type": "stream",
     "text": [
      "False\n"
     ]
    }
   ],
   "execution_count": 39
  },
  {
   "metadata": {
    "ExecuteTime": {
     "end_time": "2025-07-25T22:02:20.702428Z",
     "start_time": "2025-07-25T22:02:20.688282Z"
    }
   },
   "cell_type": "code",
   "source": [
    "#do the totalTravelDistance and segmentsDistance columns match\n",
    "nonstop_df['segmentsDistance'] = nonstop_df['segmentsDistance'].astype('float64')\n",
    "\n",
    "nonstop_df.dtypes\n"
   ],
   "id": "915240c17fb5065a",
   "outputs": [
    {
     "data": {
      "text/plain": [
       "legId                        string[pyarrow]\n",
       "searchDate                   string[pyarrow]\n",
       "flightDate                   string[pyarrow]\n",
       "startingAirport              string[pyarrow]\n",
       "destinationAirport           string[pyarrow]\n",
       "travelDuration               string[pyarrow]\n",
       "isBasicEconomy                       boolean\n",
       "isRefundable                         boolean\n",
       "isNonStop                            boolean\n",
       "baseFare                             Float64\n",
       "seatsRemaining                       float64\n",
       "totalTravelDistance                  float64\n",
       "segmentsAirlineName          string[pyarrow]\n",
       "segmentsDurationInSeconds    string[pyarrow]\n",
       "segmentsDistance                     float64\n",
       "segmentsCabinCode            string[pyarrow]\n",
       "dtype: object"
      ]
     },
     "execution_count": 8,
     "metadata": {},
     "output_type": "execute_result"
    }
   ],
   "execution_count": 8
  },
  {
   "metadata": {
    "ExecuteTime": {
     "end_time": "2025-07-25T22:02:23.143553Z",
     "start_time": "2025-07-25T22:02:22.453153Z"
    }
   },
   "cell_type": "code",
   "source": [
    "nonstop_df['distanceComp'] = nonstop_df['totalTravelDistance'] == nonstop_df['segmentsDistance']\n",
    "nonstop_df.head()"
   ],
   "id": "df3e238a06630189",
   "outputs": [
    {
     "data": {
      "text/plain": [
       "                              legId  searchDate  flightDate startingAirport  \\\n",
       "0  9ca0e81111c683bec1012473feefd28f  2022-04-16  2022-04-17             ATL   \n",
       "1  98685953630e772a098941b71906592b  2022-04-16  2022-04-17             ATL   \n",
       "2  98d90cbc32bfbb05c2fc32897c7c1087  2022-04-16  2022-04-17             ATL   \n",
       "3  969a269d38eae583f455486fa90877b4  2022-04-16  2022-04-17             ATL   \n",
       "4  980370cf27c89b40d2833a1d5afc9751  2022-04-16  2022-04-17             ATL   \n",
       "\n",
       "  destinationAirport travelDuration  isBasicEconomy  isRefundable  isNonStop  \\\n",
       "0                BOS        PT2H29M           False         False       True   \n",
       "1                BOS        PT2H30M           False         False       True   \n",
       "2                BOS        PT2H30M           False         False       True   \n",
       "3                BOS        PT2H32M           False         False       True   \n",
       "4                BOS        PT2H34M           False         False       True   \n",
       "\n",
       "   baseFare  seatsRemaining  totalTravelDistance segmentsAirlineName  \\\n",
       "0    217.67             9.0                947.0               Delta   \n",
       "1    217.67             4.0                947.0               Delta   \n",
       "2    217.67             9.0                947.0               Delta   \n",
       "3    217.67             8.0                947.0               Delta   \n",
       "4    217.67             9.0                947.0               Delta   \n",
       "\n",
       "  segmentsDurationInSeconds  segmentsDistance segmentsCabinCode  distanceComp  \n",
       "0                      8940             947.0             coach          True  \n",
       "1                      9000             947.0             coach          True  \n",
       "2                      9000             947.0             coach          True  \n",
       "3                      9120             947.0             coach          True  \n",
       "4                      9240             947.0             coach          True  "
      ],
      "text/html": [
       "<div>\n",
       "<style scoped>\n",
       "    .dataframe tbody tr th:only-of-type {\n",
       "        vertical-align: middle;\n",
       "    }\n",
       "\n",
       "    .dataframe tbody tr th {\n",
       "        vertical-align: top;\n",
       "    }\n",
       "\n",
       "    .dataframe thead th {\n",
       "        text-align: right;\n",
       "    }\n",
       "</style>\n",
       "<table border=\"1\" class=\"dataframe\">\n",
       "  <thead>\n",
       "    <tr style=\"text-align: right;\">\n",
       "      <th></th>\n",
       "      <th>legId</th>\n",
       "      <th>searchDate</th>\n",
       "      <th>flightDate</th>\n",
       "      <th>startingAirport</th>\n",
       "      <th>destinationAirport</th>\n",
       "      <th>travelDuration</th>\n",
       "      <th>isBasicEconomy</th>\n",
       "      <th>isRefundable</th>\n",
       "      <th>isNonStop</th>\n",
       "      <th>baseFare</th>\n",
       "      <th>seatsRemaining</th>\n",
       "      <th>totalTravelDistance</th>\n",
       "      <th>segmentsAirlineName</th>\n",
       "      <th>segmentsDurationInSeconds</th>\n",
       "      <th>segmentsDistance</th>\n",
       "      <th>segmentsCabinCode</th>\n",
       "      <th>distanceComp</th>\n",
       "    </tr>\n",
       "  </thead>\n",
       "  <tbody>\n",
       "    <tr>\n",
       "      <th>0</th>\n",
       "      <td>9ca0e81111c683bec1012473feefd28f</td>\n",
       "      <td>2022-04-16</td>\n",
       "      <td>2022-04-17</td>\n",
       "      <td>ATL</td>\n",
       "      <td>BOS</td>\n",
       "      <td>PT2H29M</td>\n",
       "      <td>False</td>\n",
       "      <td>False</td>\n",
       "      <td>True</td>\n",
       "      <td>217.67</td>\n",
       "      <td>9.0</td>\n",
       "      <td>947.0</td>\n",
       "      <td>Delta</td>\n",
       "      <td>8940</td>\n",
       "      <td>947.0</td>\n",
       "      <td>coach</td>\n",
       "      <td>True</td>\n",
       "    </tr>\n",
       "    <tr>\n",
       "      <th>1</th>\n",
       "      <td>98685953630e772a098941b71906592b</td>\n",
       "      <td>2022-04-16</td>\n",
       "      <td>2022-04-17</td>\n",
       "      <td>ATL</td>\n",
       "      <td>BOS</td>\n",
       "      <td>PT2H30M</td>\n",
       "      <td>False</td>\n",
       "      <td>False</td>\n",
       "      <td>True</td>\n",
       "      <td>217.67</td>\n",
       "      <td>4.0</td>\n",
       "      <td>947.0</td>\n",
       "      <td>Delta</td>\n",
       "      <td>9000</td>\n",
       "      <td>947.0</td>\n",
       "      <td>coach</td>\n",
       "      <td>True</td>\n",
       "    </tr>\n",
       "    <tr>\n",
       "      <th>2</th>\n",
       "      <td>98d90cbc32bfbb05c2fc32897c7c1087</td>\n",
       "      <td>2022-04-16</td>\n",
       "      <td>2022-04-17</td>\n",
       "      <td>ATL</td>\n",
       "      <td>BOS</td>\n",
       "      <td>PT2H30M</td>\n",
       "      <td>False</td>\n",
       "      <td>False</td>\n",
       "      <td>True</td>\n",
       "      <td>217.67</td>\n",
       "      <td>9.0</td>\n",
       "      <td>947.0</td>\n",
       "      <td>Delta</td>\n",
       "      <td>9000</td>\n",
       "      <td>947.0</td>\n",
       "      <td>coach</td>\n",
       "      <td>True</td>\n",
       "    </tr>\n",
       "    <tr>\n",
       "      <th>3</th>\n",
       "      <td>969a269d38eae583f455486fa90877b4</td>\n",
       "      <td>2022-04-16</td>\n",
       "      <td>2022-04-17</td>\n",
       "      <td>ATL</td>\n",
       "      <td>BOS</td>\n",
       "      <td>PT2H32M</td>\n",
       "      <td>False</td>\n",
       "      <td>False</td>\n",
       "      <td>True</td>\n",
       "      <td>217.67</td>\n",
       "      <td>8.0</td>\n",
       "      <td>947.0</td>\n",
       "      <td>Delta</td>\n",
       "      <td>9120</td>\n",
       "      <td>947.0</td>\n",
       "      <td>coach</td>\n",
       "      <td>True</td>\n",
       "    </tr>\n",
       "    <tr>\n",
       "      <th>4</th>\n",
       "      <td>980370cf27c89b40d2833a1d5afc9751</td>\n",
       "      <td>2022-04-16</td>\n",
       "      <td>2022-04-17</td>\n",
       "      <td>ATL</td>\n",
       "      <td>BOS</td>\n",
       "      <td>PT2H34M</td>\n",
       "      <td>False</td>\n",
       "      <td>False</td>\n",
       "      <td>True</td>\n",
       "      <td>217.67</td>\n",
       "      <td>9.0</td>\n",
       "      <td>947.0</td>\n",
       "      <td>Delta</td>\n",
       "      <td>9240</td>\n",
       "      <td>947.0</td>\n",
       "      <td>coach</td>\n",
       "      <td>True</td>\n",
       "    </tr>\n",
       "  </tbody>\n",
       "</table>\n",
       "</div>"
      ]
     },
     "execution_count": 9,
     "metadata": {},
     "output_type": "execute_result"
    }
   ],
   "execution_count": 9
  },
  {
   "metadata": {
    "ExecuteTime": {
     "end_time": "2025-07-24T18:21:20.467353Z",
     "start_time": "2025-07-24T18:16:53.129831Z"
    }
   },
   "cell_type": "code",
   "source": [
    "with ProgressBar():\n",
    "    Distance_Comp = nonstop_df['distanceComp'].value_counts().compute()"
   ],
   "id": "b81e2922fa3f327a",
   "outputs": [
    {
     "name": "stdout",
     "output_type": "stream",
     "text": [
      "[########################################] | 100% Completed | 267.18 s\n"
     ]
    }
   ],
   "execution_count": 51
  },
  {
   "metadata": {
    "ExecuteTime": {
     "end_time": "2025-07-24T18:32:52.859997Z",
     "start_time": "2025-07-24T18:27:51.631138Z"
    }
   },
   "cell_type": "code",
   "source": [
    "with ProgressBar():\n",
    "    missing_values_ns = ((nonstop_df.isnull().sum() / nonstop_df.size) * 100).compute()\n",
    "\n",
    "missing_values_ns"
   ],
   "id": "9f2a0bac4ef39771",
   "outputs": [
    {
     "name": "stdout",
     "output_type": "stream",
     "text": [
      "[########################################] | 100% Completed | 300.91 s\n"
     ]
    },
    {
     "data": {
      "text/plain": [
       "legId                        0.000000\n",
       "searchDate                   0.000000\n",
       "flightDate                   0.000000\n",
       "startingAirport              0.000000\n",
       "destinationAirport           0.000000\n",
       "travelDuration               0.000000\n",
       "isBasicEconomy               0.000000\n",
       "isRefundable                 0.000000\n",
       "isNonStop                    0.000000\n",
       "baseFare                     0.000000\n",
       "seatsRemaining               0.000000\n",
       "totalTravelDistance          0.227442\n",
       "segmentsAirlineName          0.000000\n",
       "segmentsDurationInSeconds    0.000000\n",
       "segmentsDistance             0.227442\n",
       "segmentsCabinCode            0.000000\n",
       "distanceComp                 0.000000\n",
       "dtype: float64"
      ]
     },
     "execution_count": 56,
     "metadata": {},
     "output_type": "execute_result"
    }
   ],
   "execution_count": 56
  },
  {
   "metadata": {
    "ExecuteTime": {
     "end_time": "2025-07-24T18:47:59.367345Z",
     "start_time": "2025-07-24T18:40:53.418831Z"
    }
   },
   "cell_type": "code",
   "outputs": [
    {
     "name": "stdout",
     "output_type": "stream",
     "text": [
      "0.2274419163281042\n"
     ]
    }
   ],
   "execution_count": 60,
   "source": "print((Distance_Comp[1]/nonstop_df.size)*100)",
   "id": "fa10d002ac5c4fe1"
  },
  {
   "metadata": {},
   "cell_type": "markdown",
   "source": [
    "#### Exploring Odd Fare Prices\n",
    "With the help of ChatGPT I determined that the total fare for the airlines and dates used in this data set should be \\$25 or above. ChatGPT also mentioned that budget carriers like Spirit and Frontier could potentially have had sales making total fare between 19 and 39 dollars.\n",
    "\n",
    "A review of the airlines with total fare less than \\$25 showed it was only budget airlines (Spirit and Frontier) with the very low total fares. So I concluded I did not need to filter out any data due to unreasonable fare prices.\n",
    "\n",
    "I also decided to use totalFare instead of baseFare to represent the price of the ticket."
   ],
   "id": "9b93dddaa3c3023e"
  },
  {
   "metadata": {
    "ExecuteTime": {
     "end_time": "2025-07-30T00:14:43.382939Z",
     "start_time": "2025-07-30T00:08:22.693050Z"
    }
   },
   "cell_type": "code",
   "source": [
    "#exploring the values for basefare\n",
    "with ProgressBar():\n",
    "    basefare = nonstop_df['baseFare'].value_counts().compute().sort_index()\n",
    "basefare"
   ],
   "id": "9d3881380f688",
   "outputs": [
    {
     "name": "stdout",
     "output_type": "stream",
     "text": [
      "[########################################] | 100% Completed | 380.61 s\n"
     ]
    },
    {
     "data": {
      "text/plain": [
       "baseFare\n",
       "0.01         912\n",
       "0.41        1052\n",
       "1.0        16267\n",
       "1.41         861\n",
       "2.0         1021\n",
       "           ...  \n",
       "4426.04        1\n",
       "4435.35        4\n",
       "4444.65        1\n",
       "4557.21       38\n",
       "4566.51       25\n",
       "Name: count, Length: 4953, dtype: Int64"
      ]
     },
     "execution_count": 66,
     "metadata": {},
     "output_type": "execute_result"
    }
   ],
   "execution_count": 66
  },
  {
   "metadata": {
    "ExecuteTime": {
     "end_time": "2025-08-01T18:07:45.647783Z",
     "start_time": "2025-08-01T18:04:06.317574Z"
    }
   },
   "cell_type": "code",
   "source": [
    "totalfare_min = flight_df['totalFare'].min().compute()\n",
    "totalfare_min"
   ],
   "id": "761d545a38323770",
   "outputs": [
    {
     "data": {
      "text/plain": [
       "np.float64(19.59)"
      ]
     },
     "execution_count": 97,
     "metadata": {},
     "output_type": "execute_result"
    }
   ],
   "execution_count": 97
  },
  {
   "metadata": {
    "ExecuteTime": {
     "end_time": "2025-08-01T18:23:50.753678Z",
     "start_time": "2025-08-01T18:18:07.770246Z"
    }
   },
   "cell_type": "code",
   "source": [
    "with ProgressBar():\n",
    "    totalfare = flight_df['totalFare'].value_counts().compute().sort_index()\n",
    "totalfare"
   ],
   "id": "423075eb5fce7bb5",
   "outputs": [
    {
     "name": "stdout",
     "output_type": "stream",
     "text": [
      "[########################################] | 100% Completed | 342.92 s\n"
     ]
    },
    {
     "data": {
      "text/plain": [
       "totalFare\n",
       "19.59      1357\n",
       "22.47        48\n",
       "23.97      1465\n",
       "24.59      6121\n",
       "25.59        32\n",
       "           ... \n",
       "7554.2        4\n",
       "7568.6        4\n",
       "7574.2        1\n",
       "7918.6        8\n",
       "8260.61       5\n",
       "Name: count, Length: 59104, dtype: Int64"
      ]
     },
     "execution_count": 102,
     "metadata": {},
     "output_type": "execute_result"
    }
   ],
   "execution_count": 102
  },
  {
   "metadata": {
    "ExecuteTime": {
     "end_time": "2025-08-01T18:48:32.003842Z",
     "start_time": "2025-08-01T18:48:31.369275Z"
    }
   },
   "cell_type": "code",
   "source": [
    "totalfare2 = flight_df[flight_df['totalFare'] < 25.00]\n",
    "totalfare2.tail()"
   ],
   "id": "7b4e1262cc1b5137",
   "outputs": [
    {
     "data": {
      "text/plain": [
       "                                   legId  searchDate  flightDate  \\\n",
       "94443   3d1afeeff59cbe0abcb75bb3ade5db7f  2022-10-05  2022-11-05   \n",
       "125475  c8e34794697b21f978dcf62a7274efca  2022-10-05  2022-11-08   \n",
       "127726  5e927b894ee77596a9831919e323d16f  2022-10-05  2022-11-08   \n",
       "137736  9962caa59d1f6488e4f6ef6ab9d585e4  2022-10-05  2022-11-09   \n",
       "140017  76664fbc6e9a33c275dbf47d5b91c885  2022-10-05  2022-11-09   \n",
       "\n",
       "       startingAirport destinationAirport travelDuration  isBasicEconomy  \\\n",
       "94443              LAX                OAK        PT1H21M           False   \n",
       "125475             LAX                OAK        PT1H21M           False   \n",
       "127726             OAK                LAX        PT1H22M           False   \n",
       "137736             LAX                OAK        PT1H21M           False   \n",
       "140017             OAK                LAX        PT1H22M           False   \n",
       "\n",
       "        isRefundable  isNonStop  baseFare  totalFare  seatsRemaining  \\\n",
       "94443          False       True       6.0      24.59             0.0   \n",
       "125475         False       True       6.0      24.59             0.0   \n",
       "127726         False       True       6.0      24.59             0.0   \n",
       "137736         False       True       6.0      24.59             0.0   \n",
       "140017         False       True       6.0      24.59             0.0   \n",
       "\n",
       "        totalTravelDistance segmentsAirlineName segmentsDurationInSeconds  \\\n",
       "94443                   NaN     Spirit Airlines                      4860   \n",
       "125475                  NaN     Spirit Airlines                      4860   \n",
       "127726                  NaN     Spirit Airlines                      4920   \n",
       "137736                  NaN     Spirit Airlines                      4860   \n",
       "140017                  NaN     Spirit Airlines                      4920   \n",
       "\n",
       "       segmentsDistance segmentsCabinCode  \n",
       "94443              <NA>             coach  \n",
       "125475             <NA>             coach  \n",
       "127726             <NA>             coach  \n",
       "137736             <NA>             coach  \n",
       "140017             <NA>             coach  "
      ],
      "text/html": [
       "<div>\n",
       "<style scoped>\n",
       "    .dataframe tbody tr th:only-of-type {\n",
       "        vertical-align: middle;\n",
       "    }\n",
       "\n",
       "    .dataframe tbody tr th {\n",
       "        vertical-align: top;\n",
       "    }\n",
       "\n",
       "    .dataframe thead th {\n",
       "        text-align: right;\n",
       "    }\n",
       "</style>\n",
       "<table border=\"1\" class=\"dataframe\">\n",
       "  <thead>\n",
       "    <tr style=\"text-align: right;\">\n",
       "      <th></th>\n",
       "      <th>legId</th>\n",
       "      <th>searchDate</th>\n",
       "      <th>flightDate</th>\n",
       "      <th>startingAirport</th>\n",
       "      <th>destinationAirport</th>\n",
       "      <th>travelDuration</th>\n",
       "      <th>isBasicEconomy</th>\n",
       "      <th>isRefundable</th>\n",
       "      <th>isNonStop</th>\n",
       "      <th>baseFare</th>\n",
       "      <th>totalFare</th>\n",
       "      <th>seatsRemaining</th>\n",
       "      <th>totalTravelDistance</th>\n",
       "      <th>segmentsAirlineName</th>\n",
       "      <th>segmentsDurationInSeconds</th>\n",
       "      <th>segmentsDistance</th>\n",
       "      <th>segmentsCabinCode</th>\n",
       "    </tr>\n",
       "  </thead>\n",
       "  <tbody>\n",
       "    <tr>\n",
       "      <th>94443</th>\n",
       "      <td>3d1afeeff59cbe0abcb75bb3ade5db7f</td>\n",
       "      <td>2022-10-05</td>\n",
       "      <td>2022-11-05</td>\n",
       "      <td>LAX</td>\n",
       "      <td>OAK</td>\n",
       "      <td>PT1H21M</td>\n",
       "      <td>False</td>\n",
       "      <td>False</td>\n",
       "      <td>True</td>\n",
       "      <td>6.0</td>\n",
       "      <td>24.59</td>\n",
       "      <td>0.0</td>\n",
       "      <td>NaN</td>\n",
       "      <td>Spirit Airlines</td>\n",
       "      <td>4860</td>\n",
       "      <td>&lt;NA&gt;</td>\n",
       "      <td>coach</td>\n",
       "    </tr>\n",
       "    <tr>\n",
       "      <th>125475</th>\n",
       "      <td>c8e34794697b21f978dcf62a7274efca</td>\n",
       "      <td>2022-10-05</td>\n",
       "      <td>2022-11-08</td>\n",
       "      <td>LAX</td>\n",
       "      <td>OAK</td>\n",
       "      <td>PT1H21M</td>\n",
       "      <td>False</td>\n",
       "      <td>False</td>\n",
       "      <td>True</td>\n",
       "      <td>6.0</td>\n",
       "      <td>24.59</td>\n",
       "      <td>0.0</td>\n",
       "      <td>NaN</td>\n",
       "      <td>Spirit Airlines</td>\n",
       "      <td>4860</td>\n",
       "      <td>&lt;NA&gt;</td>\n",
       "      <td>coach</td>\n",
       "    </tr>\n",
       "    <tr>\n",
       "      <th>127726</th>\n",
       "      <td>5e927b894ee77596a9831919e323d16f</td>\n",
       "      <td>2022-10-05</td>\n",
       "      <td>2022-11-08</td>\n",
       "      <td>OAK</td>\n",
       "      <td>LAX</td>\n",
       "      <td>PT1H22M</td>\n",
       "      <td>False</td>\n",
       "      <td>False</td>\n",
       "      <td>True</td>\n",
       "      <td>6.0</td>\n",
       "      <td>24.59</td>\n",
       "      <td>0.0</td>\n",
       "      <td>NaN</td>\n",
       "      <td>Spirit Airlines</td>\n",
       "      <td>4920</td>\n",
       "      <td>&lt;NA&gt;</td>\n",
       "      <td>coach</td>\n",
       "    </tr>\n",
       "    <tr>\n",
       "      <th>137736</th>\n",
       "      <td>9962caa59d1f6488e4f6ef6ab9d585e4</td>\n",
       "      <td>2022-10-05</td>\n",
       "      <td>2022-11-09</td>\n",
       "      <td>LAX</td>\n",
       "      <td>OAK</td>\n",
       "      <td>PT1H21M</td>\n",
       "      <td>False</td>\n",
       "      <td>False</td>\n",
       "      <td>True</td>\n",
       "      <td>6.0</td>\n",
       "      <td>24.59</td>\n",
       "      <td>0.0</td>\n",
       "      <td>NaN</td>\n",
       "      <td>Spirit Airlines</td>\n",
       "      <td>4860</td>\n",
       "      <td>&lt;NA&gt;</td>\n",
       "      <td>coach</td>\n",
       "    </tr>\n",
       "    <tr>\n",
       "      <th>140017</th>\n",
       "      <td>76664fbc6e9a33c275dbf47d5b91c885</td>\n",
       "      <td>2022-10-05</td>\n",
       "      <td>2022-11-09</td>\n",
       "      <td>OAK</td>\n",
       "      <td>LAX</td>\n",
       "      <td>PT1H22M</td>\n",
       "      <td>False</td>\n",
       "      <td>False</td>\n",
       "      <td>True</td>\n",
       "      <td>6.0</td>\n",
       "      <td>24.59</td>\n",
       "      <td>0.0</td>\n",
       "      <td>NaN</td>\n",
       "      <td>Spirit Airlines</td>\n",
       "      <td>4920</td>\n",
       "      <td>&lt;NA&gt;</td>\n",
       "      <td>coach</td>\n",
       "    </tr>\n",
       "  </tbody>\n",
       "</table>\n",
       "</div>"
      ]
     },
     "execution_count": 115,
     "metadata": {},
     "output_type": "execute_result"
    }
   ],
   "execution_count": 115
  },
  {
   "metadata": {
    "ExecuteTime": {
     "end_time": "2025-08-01T19:03:57.896711Z",
     "start_time": "2025-08-01T18:58:43.926409Z"
    }
   },
   "cell_type": "code",
   "source": "len(totalfare2)",
   "id": "b0dc5840f313e91e",
   "outputs": [
    {
     "data": {
      "text/plain": [
       "8991"
      ]
     },
     "execution_count": 121,
     "metadata": {},
     "output_type": "execute_result"
    }
   ],
   "execution_count": 121
  },
  {
   "metadata": {
    "ExecuteTime": {
     "end_time": "2025-08-01T18:52:40.106068Z",
     "start_time": "2025-08-01T18:48:50.801681Z"
    }
   },
   "cell_type": "code",
   "source": [
    "with ProgressBar():\n",
    "    lowfare_airline = totalfare2['segmentsAirlineName'].value_counts().compute()\n",
    "lowfare_airline"
   ],
   "id": "2807fd3af21f1bb3",
   "outputs": [
    {
     "name": "stdout",
     "output_type": "stream",
     "text": [
      "[########################################] | 100% Completed | 229.05 s\n"
     ]
    },
    {
     "data": {
      "text/plain": [
       "segmentsAirlineName\n",
       "Frontier Airlines    1513\n",
       "Spirit Airlines      7478\n",
       "Name: count, dtype: int64[pyarrow]"
      ]
     },
     "execution_count": 116,
     "metadata": {},
     "output_type": "execute_result"
    }
   ],
   "execution_count": 116
  },
  {
   "metadata": {},
   "cell_type": "markdown",
   "source": [
    "## Cleaning\n",
    "Some of the cleaning - like removing columns and filtering for nonstop flights - was done during EDA. The remaining cleaning tasks are outlined below.\n",
    "\n",
    "Cleaning Tasks\n",
    "- Remove more unnecessary columns\n",
    "- Convert searchDate and FlightDate to date objects that can be subtracted from each other\n",
    "- Calculate daysBeforeDeparture using searchDate and FlightDate\n",
    "- Convert segmentsDurationInSeconds from string to float64\n",
    "- Convert segmentsDurationInSeconds to hours\n",
    "- Limit data to flight IDs with 60 or more records\n",
    "\n",
    "Columns To Remove: Why Remove Them\n",
    "- travelDuration: in a weird format, using segmentsDurationInSeconds instead\n",
    "- isBasicEconomy: doesn't match numbers of class, info in segment class more helpful\n",
    "- isNonStop: already filtered on this and know data is only for nonstop flights\n",
    "- segmentsDistance: going to use totalTravelDistance instead\n",
    "- DistanceComp: column I added that I don't need\n",
    "- staringAirport: need to save space, get the info from the distance\n",
    "- destinationAirport: need to save space, get the info from the distance\n"
   ],
   "id": "54a4b9a65b95a1de"
  },
  {
   "metadata": {
    "ExecuteTime": {
     "end_time": "2025-08-05T19:23:11.097022Z",
     "start_time": "2025-08-05T19:23:10.429206Z"
    }
   },
   "cell_type": "code",
   "source": "nonstop_df.head()",
   "id": "54e5601605694303",
   "outputs": [
    {
     "data": {
      "text/plain": [
       "                              legId  searchDate  flightDate startingAirport  \\\n",
       "0  9ca0e81111c683bec1012473feefd28f  2022-04-16  2022-04-17             ATL   \n",
       "1  98685953630e772a098941b71906592b  2022-04-16  2022-04-17             ATL   \n",
       "2  98d90cbc32bfbb05c2fc32897c7c1087  2022-04-16  2022-04-17             ATL   \n",
       "3  969a269d38eae583f455486fa90877b4  2022-04-16  2022-04-17             ATL   \n",
       "4  980370cf27c89b40d2833a1d5afc9751  2022-04-16  2022-04-17             ATL   \n",
       "\n",
       "  destinationAirport travelDuration  isBasicEconomy  isRefundable  isNonStop  \\\n",
       "0                BOS        PT2H29M           False         False       True   \n",
       "1                BOS        PT2H30M           False         False       True   \n",
       "2                BOS        PT2H30M           False         False       True   \n",
       "3                BOS        PT2H32M           False         False       True   \n",
       "4                BOS        PT2H34M           False         False       True   \n",
       "\n",
       "   baseFare  totalFare  seatsRemaining  totalTravelDistance  \\\n",
       "0    217.67      248.6             9.0                947.0   \n",
       "1    217.67      248.6             4.0                947.0   \n",
       "2    217.67      248.6             9.0                947.0   \n",
       "3    217.67      248.6             8.0                947.0   \n",
       "4    217.67      248.6             9.0                947.0   \n",
       "\n",
       "  segmentsAirlineName segmentsDurationInSeconds segmentsDistance  \\\n",
       "0               Delta                      8940              947   \n",
       "1               Delta                      9000              947   \n",
       "2               Delta                      9000              947   \n",
       "3               Delta                      9120              947   \n",
       "4               Delta                      9240              947   \n",
       "\n",
       "  segmentsCabinCode  \n",
       "0             coach  \n",
       "1             coach  \n",
       "2             coach  \n",
       "3             coach  \n",
       "4             coach  "
      ],
      "text/html": [
       "<div>\n",
       "<style scoped>\n",
       "    .dataframe tbody tr th:only-of-type {\n",
       "        vertical-align: middle;\n",
       "    }\n",
       "\n",
       "    .dataframe tbody tr th {\n",
       "        vertical-align: top;\n",
       "    }\n",
       "\n",
       "    .dataframe thead th {\n",
       "        text-align: right;\n",
       "    }\n",
       "</style>\n",
       "<table border=\"1\" class=\"dataframe\">\n",
       "  <thead>\n",
       "    <tr style=\"text-align: right;\">\n",
       "      <th></th>\n",
       "      <th>legId</th>\n",
       "      <th>searchDate</th>\n",
       "      <th>flightDate</th>\n",
       "      <th>startingAirport</th>\n",
       "      <th>destinationAirport</th>\n",
       "      <th>travelDuration</th>\n",
       "      <th>isBasicEconomy</th>\n",
       "      <th>isRefundable</th>\n",
       "      <th>isNonStop</th>\n",
       "      <th>baseFare</th>\n",
       "      <th>totalFare</th>\n",
       "      <th>seatsRemaining</th>\n",
       "      <th>totalTravelDistance</th>\n",
       "      <th>segmentsAirlineName</th>\n",
       "      <th>segmentsDurationInSeconds</th>\n",
       "      <th>segmentsDistance</th>\n",
       "      <th>segmentsCabinCode</th>\n",
       "    </tr>\n",
       "  </thead>\n",
       "  <tbody>\n",
       "    <tr>\n",
       "      <th>0</th>\n",
       "      <td>9ca0e81111c683bec1012473feefd28f</td>\n",
       "      <td>2022-04-16</td>\n",
       "      <td>2022-04-17</td>\n",
       "      <td>ATL</td>\n",
       "      <td>BOS</td>\n",
       "      <td>PT2H29M</td>\n",
       "      <td>False</td>\n",
       "      <td>False</td>\n",
       "      <td>True</td>\n",
       "      <td>217.67</td>\n",
       "      <td>248.6</td>\n",
       "      <td>9.0</td>\n",
       "      <td>947.0</td>\n",
       "      <td>Delta</td>\n",
       "      <td>8940</td>\n",
       "      <td>947</td>\n",
       "      <td>coach</td>\n",
       "    </tr>\n",
       "    <tr>\n",
       "      <th>1</th>\n",
       "      <td>98685953630e772a098941b71906592b</td>\n",
       "      <td>2022-04-16</td>\n",
       "      <td>2022-04-17</td>\n",
       "      <td>ATL</td>\n",
       "      <td>BOS</td>\n",
       "      <td>PT2H30M</td>\n",
       "      <td>False</td>\n",
       "      <td>False</td>\n",
       "      <td>True</td>\n",
       "      <td>217.67</td>\n",
       "      <td>248.6</td>\n",
       "      <td>4.0</td>\n",
       "      <td>947.0</td>\n",
       "      <td>Delta</td>\n",
       "      <td>9000</td>\n",
       "      <td>947</td>\n",
       "      <td>coach</td>\n",
       "    </tr>\n",
       "    <tr>\n",
       "      <th>2</th>\n",
       "      <td>98d90cbc32bfbb05c2fc32897c7c1087</td>\n",
       "      <td>2022-04-16</td>\n",
       "      <td>2022-04-17</td>\n",
       "      <td>ATL</td>\n",
       "      <td>BOS</td>\n",
       "      <td>PT2H30M</td>\n",
       "      <td>False</td>\n",
       "      <td>False</td>\n",
       "      <td>True</td>\n",
       "      <td>217.67</td>\n",
       "      <td>248.6</td>\n",
       "      <td>9.0</td>\n",
       "      <td>947.0</td>\n",
       "      <td>Delta</td>\n",
       "      <td>9000</td>\n",
       "      <td>947</td>\n",
       "      <td>coach</td>\n",
       "    </tr>\n",
       "    <tr>\n",
       "      <th>3</th>\n",
       "      <td>969a269d38eae583f455486fa90877b4</td>\n",
       "      <td>2022-04-16</td>\n",
       "      <td>2022-04-17</td>\n",
       "      <td>ATL</td>\n",
       "      <td>BOS</td>\n",
       "      <td>PT2H32M</td>\n",
       "      <td>False</td>\n",
       "      <td>False</td>\n",
       "      <td>True</td>\n",
       "      <td>217.67</td>\n",
       "      <td>248.6</td>\n",
       "      <td>8.0</td>\n",
       "      <td>947.0</td>\n",
       "      <td>Delta</td>\n",
       "      <td>9120</td>\n",
       "      <td>947</td>\n",
       "      <td>coach</td>\n",
       "    </tr>\n",
       "    <tr>\n",
       "      <th>4</th>\n",
       "      <td>980370cf27c89b40d2833a1d5afc9751</td>\n",
       "      <td>2022-04-16</td>\n",
       "      <td>2022-04-17</td>\n",
       "      <td>ATL</td>\n",
       "      <td>BOS</td>\n",
       "      <td>PT2H34M</td>\n",
       "      <td>False</td>\n",
       "      <td>False</td>\n",
       "      <td>True</td>\n",
       "      <td>217.67</td>\n",
       "      <td>248.6</td>\n",
       "      <td>9.0</td>\n",
       "      <td>947.0</td>\n",
       "      <td>Delta</td>\n",
       "      <td>9240</td>\n",
       "      <td>947</td>\n",
       "      <td>coach</td>\n",
       "    </tr>\n",
       "  </tbody>\n",
       "</table>\n",
       "</div>"
      ]
     },
     "execution_count": 224,
     "metadata": {},
     "output_type": "execute_result"
    }
   ],
   "execution_count": 224
  },
  {
   "metadata": {
    "ExecuteTime": {
     "end_time": "2025-08-05T18:32:09.283948Z",
     "start_time": "2025-08-05T18:26:42.544214Z"
    }
   },
   "cell_type": "code",
   "source": [
    "with ProgressBar():\n",
    "    nonstop_size = nonstop_df.shape[0].compute()\n",
    "nonstop_size"
   ],
   "id": "e6a5eeba3b5ed1d5",
   "outputs": [
    {
     "name": "stdout",
     "output_type": "stream",
     "text": [
      "[########################################] | 100% Completed | 326.70 s\n"
     ]
    },
    {
     "data": {
      "text/plain": [
       "22066888"
      ]
     },
     "execution_count": 192,
     "metadata": {},
     "output_type": "execute_result"
    }
   ],
   "execution_count": 192
  },
  {
   "metadata": {
    "ExecuteTime": {
     "end_time": "2025-08-05T19:23:17.661896Z",
     "start_time": "2025-08-05T19:23:17.648607Z"
    }
   },
   "cell_type": "code",
   "source": "nonstop_df2 = nonstop_df[nonstop_df['legId'].isin(sixty_ids)]",
   "id": "7a695daeee7d3ace",
   "outputs": [],
   "execution_count": 225
  },
  {
   "metadata": {
    "ExecuteTime": {
     "end_time": "2025-08-05T18:40:02.603720Z",
     "start_time": "2025-08-05T18:32:31.683637Z"
    }
   },
   "cell_type": "code",
   "source": [
    "with ProgressBar():\n",
    "    nonstop2_size = nonstop_df2.shape[0].compute()\n",
    "nonstop2_size"
   ],
   "id": "f9d6686f5c3a4cab",
   "outputs": [
    {
     "name": "stdout",
     "output_type": "stream",
     "text": [
      "[########################################] | 100% Completed | 450.86 s\n"
     ]
    },
    {
     "data": {
      "text/plain": [
       "668163"
      ]
     },
     "execution_count": 194,
     "metadata": {},
     "output_type": "execute_result"
    }
   ],
   "execution_count": 194
  },
  {
   "metadata": {
    "ExecuteTime": {
     "end_time": "2025-08-05T19:23:21.368306Z",
     "start_time": "2025-08-05T19:23:21.351019Z"
    }
   },
   "cell_type": "code",
   "source": [
    "#removing columns\n",
    "nonstop_df2 = nonstop_df2.drop(['travelDuration', 'isBasicEconomy', 'isNonStop', 'segmentsDistance', 'startingAirport', 'destinationAirport'], axis=1)"
   ],
   "id": "8f67266cb464b32",
   "outputs": [],
   "execution_count": 226
  },
  {
   "metadata": {
    "ExecuteTime": {
     "end_time": "2025-08-05T19:23:24.030528Z",
     "start_time": "2025-08-05T19:23:24.010678Z"
    }
   },
   "cell_type": "code",
   "source": [
    "#Convert flight duration from seconds to hours\n",
    "nonstop_df2['segmentsDurationInSeconds'] = nonstop_df2['segmentsDurationInSeconds'].astype('float')\n",
    "\n",
    "nonstop_df2['segmentsDurationInSeconds'] = (nonstop_df2['segmentsDurationInSeconds'] / 3600.0).round(1)\n",
    "\n",
    "nonstop_df2 = nonstop_df2.rename(columns={'segmentsDurationInSeconds': 'segmentsDurationInHours'})"
   ],
   "id": "bcf258aa34ea945",
   "outputs": [],
   "execution_count": 227
  },
  {
   "metadata": {
    "ExecuteTime": {
     "end_time": "2025-08-05T19:27:57.078448Z",
     "start_time": "2025-08-05T19:24:10.259220Z"
    }
   },
   "cell_type": "code",
   "source": [
    "#checking implementation of segment durtation in hours\n",
    "nonstop_df2.head(npartitions=-1)"
   ],
   "id": "bb0b6011f86de706",
   "outputs": [
    {
     "data": {
      "text/plain": [
       "                                   legId  searchDate  flightDate  \\\n",
       "100817  8132c7c2649e99e05bd5fbd68e820f69  2022-05-21  2022-07-18   \n",
       "122201  8132c7c2649e99e05bd5fbd68e820f69  2022-05-25  2022-07-18   \n",
       "128331  8132c7c2649e99e05bd5fbd68e820f69  2022-05-26  2022-07-18   \n",
       "102900  8132c7c2649e99e05bd5fbd68e820f69  2022-05-27  2022-07-16   \n",
       "101883  8132c7c2649e99e05bd5fbd68e820f69  2022-05-28  2022-07-16   \n",
       "\n",
       "        isRefundable  baseFare  totalFare  seatsRemaining  \\\n",
       "100817         False      72.0     128.59             0.0   \n",
       "122201         False     112.0     168.59             0.0   \n",
       "128331         False     112.0     168.59             0.0   \n",
       "102900         False      42.0      98.59             0.0   \n",
       "101883         False      42.0      98.59             0.0   \n",
       "\n",
       "        totalTravelDistance segmentsAirlineName  segmentsDurationInHours  \\\n",
       "100817                  NaN     Spirit Airlines                      2.2   \n",
       "122201                  NaN     Spirit Airlines                      2.2   \n",
       "128331                  NaN     Spirit Airlines                      2.2   \n",
       "102900                  NaN     Spirit Airlines                      2.2   \n",
       "101883                  NaN     Spirit Airlines                      2.2   \n",
       "\n",
       "       segmentsCabinCode  \n",
       "100817             coach  \n",
       "122201             coach  \n",
       "128331             coach  \n",
       "102900             coach  \n",
       "101883             coach  "
      ],
      "text/html": [
       "<div>\n",
       "<style scoped>\n",
       "    .dataframe tbody tr th:only-of-type {\n",
       "        vertical-align: middle;\n",
       "    }\n",
       "\n",
       "    .dataframe tbody tr th {\n",
       "        vertical-align: top;\n",
       "    }\n",
       "\n",
       "    .dataframe thead th {\n",
       "        text-align: right;\n",
       "    }\n",
       "</style>\n",
       "<table border=\"1\" class=\"dataframe\">\n",
       "  <thead>\n",
       "    <tr style=\"text-align: right;\">\n",
       "      <th></th>\n",
       "      <th>legId</th>\n",
       "      <th>searchDate</th>\n",
       "      <th>flightDate</th>\n",
       "      <th>isRefundable</th>\n",
       "      <th>baseFare</th>\n",
       "      <th>totalFare</th>\n",
       "      <th>seatsRemaining</th>\n",
       "      <th>totalTravelDistance</th>\n",
       "      <th>segmentsAirlineName</th>\n",
       "      <th>segmentsDurationInHours</th>\n",
       "      <th>segmentsCabinCode</th>\n",
       "    </tr>\n",
       "  </thead>\n",
       "  <tbody>\n",
       "    <tr>\n",
       "      <th>100817</th>\n",
       "      <td>8132c7c2649e99e05bd5fbd68e820f69</td>\n",
       "      <td>2022-05-21</td>\n",
       "      <td>2022-07-18</td>\n",
       "      <td>False</td>\n",
       "      <td>72.0</td>\n",
       "      <td>128.59</td>\n",
       "      <td>0.0</td>\n",
       "      <td>NaN</td>\n",
       "      <td>Spirit Airlines</td>\n",
       "      <td>2.2</td>\n",
       "      <td>coach</td>\n",
       "    </tr>\n",
       "    <tr>\n",
       "      <th>122201</th>\n",
       "      <td>8132c7c2649e99e05bd5fbd68e820f69</td>\n",
       "      <td>2022-05-25</td>\n",
       "      <td>2022-07-18</td>\n",
       "      <td>False</td>\n",
       "      <td>112.0</td>\n",
       "      <td>168.59</td>\n",
       "      <td>0.0</td>\n",
       "      <td>NaN</td>\n",
       "      <td>Spirit Airlines</td>\n",
       "      <td>2.2</td>\n",
       "      <td>coach</td>\n",
       "    </tr>\n",
       "    <tr>\n",
       "      <th>128331</th>\n",
       "      <td>8132c7c2649e99e05bd5fbd68e820f69</td>\n",
       "      <td>2022-05-26</td>\n",
       "      <td>2022-07-18</td>\n",
       "      <td>False</td>\n",
       "      <td>112.0</td>\n",
       "      <td>168.59</td>\n",
       "      <td>0.0</td>\n",
       "      <td>NaN</td>\n",
       "      <td>Spirit Airlines</td>\n",
       "      <td>2.2</td>\n",
       "      <td>coach</td>\n",
       "    </tr>\n",
       "    <tr>\n",
       "      <th>102900</th>\n",
       "      <td>8132c7c2649e99e05bd5fbd68e820f69</td>\n",
       "      <td>2022-05-27</td>\n",
       "      <td>2022-07-16</td>\n",
       "      <td>False</td>\n",
       "      <td>42.0</td>\n",
       "      <td>98.59</td>\n",
       "      <td>0.0</td>\n",
       "      <td>NaN</td>\n",
       "      <td>Spirit Airlines</td>\n",
       "      <td>2.2</td>\n",
       "      <td>coach</td>\n",
       "    </tr>\n",
       "    <tr>\n",
       "      <th>101883</th>\n",
       "      <td>8132c7c2649e99e05bd5fbd68e820f69</td>\n",
       "      <td>2022-05-28</td>\n",
       "      <td>2022-07-16</td>\n",
       "      <td>False</td>\n",
       "      <td>42.0</td>\n",
       "      <td>98.59</td>\n",
       "      <td>0.0</td>\n",
       "      <td>NaN</td>\n",
       "      <td>Spirit Airlines</td>\n",
       "      <td>2.2</td>\n",
       "      <td>coach</td>\n",
       "    </tr>\n",
       "  </tbody>\n",
       "</table>\n",
       "</div>"
      ]
     },
     "execution_count": 230,
     "metadata": {},
     "output_type": "execute_result"
    }
   ],
   "execution_count": 230
  },
  {
   "metadata": {
    "ExecuteTime": {
     "end_time": "2025-08-05T19:29:57.524692Z",
     "start_time": "2025-08-05T19:29:57.494087Z"
    }
   },
   "cell_type": "code",
   "source": [
    "# Converting date columns to date time objects\n",
    "nonstop_df2['searchDate'] = nonstop_df2['searchDate'].astype('datetime64[ns]')\n",
    "nonstop_df2['flightDate'] = nonstop_df2['flightDate'].astype('datetime64[ns]')\n",
    "\n",
    "nonstop_df2['daysBeforeDeparture'] = nonstop_df2['flightDate'] - nonstop_df2['searchDate']"
   ],
   "id": "c8053ad02ba0926b",
   "outputs": [],
   "execution_count": 232
  },
  {
   "metadata": {
    "ExecuteTime": {
     "end_time": "2025-08-05T19:33:50.038558Z",
     "start_time": "2025-08-05T19:29:59.822250Z"
    }
   },
   "cell_type": "code",
   "source": [
    "#checking implemementation of daysBeforeDeparture column\n",
    "nonstop_df2.head(npartitions=-1)"
   ],
   "id": "1289b62f9575914c",
   "outputs": [
    {
     "data": {
      "text/plain": [
       "                                   legId searchDate flightDate  isRefundable  \\\n",
       "100817  8132c7c2649e99e05bd5fbd68e820f69 2022-05-21 2022-07-18         False   \n",
       "122201  8132c7c2649e99e05bd5fbd68e820f69 2022-05-25 2022-07-18         False   \n",
       "128331  8132c7c2649e99e05bd5fbd68e820f69 2022-05-26 2022-07-18         False   \n",
       "102900  8132c7c2649e99e05bd5fbd68e820f69 2022-05-27 2022-07-16         False   \n",
       "101883  8132c7c2649e99e05bd5fbd68e820f69 2022-05-28 2022-07-16         False   \n",
       "\n",
       "        baseFare  totalFare  seatsRemaining  totalTravelDistance  \\\n",
       "100817      72.0     128.59             0.0                  NaN   \n",
       "122201     112.0     168.59             0.0                  NaN   \n",
       "128331     112.0     168.59             0.0                  NaN   \n",
       "102900      42.0      98.59             0.0                  NaN   \n",
       "101883      42.0      98.59             0.0                  NaN   \n",
       "\n",
       "       segmentsAirlineName  segmentsDurationInHours segmentsCabinCode  \\\n",
       "100817     Spirit Airlines                      2.2             coach   \n",
       "122201     Spirit Airlines                      2.2             coach   \n",
       "128331     Spirit Airlines                      2.2             coach   \n",
       "102900     Spirit Airlines                      2.2             coach   \n",
       "101883     Spirit Airlines                      2.2             coach   \n",
       "\n",
       "       daysBeforeDeparture  \n",
       "100817             58 days  \n",
       "122201             54 days  \n",
       "128331             53 days  \n",
       "102900             50 days  \n",
       "101883             49 days  "
      ],
      "text/html": [
       "<div>\n",
       "<style scoped>\n",
       "    .dataframe tbody tr th:only-of-type {\n",
       "        vertical-align: middle;\n",
       "    }\n",
       "\n",
       "    .dataframe tbody tr th {\n",
       "        vertical-align: top;\n",
       "    }\n",
       "\n",
       "    .dataframe thead th {\n",
       "        text-align: right;\n",
       "    }\n",
       "</style>\n",
       "<table border=\"1\" class=\"dataframe\">\n",
       "  <thead>\n",
       "    <tr style=\"text-align: right;\">\n",
       "      <th></th>\n",
       "      <th>legId</th>\n",
       "      <th>searchDate</th>\n",
       "      <th>flightDate</th>\n",
       "      <th>isRefundable</th>\n",
       "      <th>baseFare</th>\n",
       "      <th>totalFare</th>\n",
       "      <th>seatsRemaining</th>\n",
       "      <th>totalTravelDistance</th>\n",
       "      <th>segmentsAirlineName</th>\n",
       "      <th>segmentsDurationInHours</th>\n",
       "      <th>segmentsCabinCode</th>\n",
       "      <th>daysBeforeDeparture</th>\n",
       "    </tr>\n",
       "  </thead>\n",
       "  <tbody>\n",
       "    <tr>\n",
       "      <th>100817</th>\n",
       "      <td>8132c7c2649e99e05bd5fbd68e820f69</td>\n",
       "      <td>2022-05-21</td>\n",
       "      <td>2022-07-18</td>\n",
       "      <td>False</td>\n",
       "      <td>72.0</td>\n",
       "      <td>128.59</td>\n",
       "      <td>0.0</td>\n",
       "      <td>NaN</td>\n",
       "      <td>Spirit Airlines</td>\n",
       "      <td>2.2</td>\n",
       "      <td>coach</td>\n",
       "      <td>58 days</td>\n",
       "    </tr>\n",
       "    <tr>\n",
       "      <th>122201</th>\n",
       "      <td>8132c7c2649e99e05bd5fbd68e820f69</td>\n",
       "      <td>2022-05-25</td>\n",
       "      <td>2022-07-18</td>\n",
       "      <td>False</td>\n",
       "      <td>112.0</td>\n",
       "      <td>168.59</td>\n",
       "      <td>0.0</td>\n",
       "      <td>NaN</td>\n",
       "      <td>Spirit Airlines</td>\n",
       "      <td>2.2</td>\n",
       "      <td>coach</td>\n",
       "      <td>54 days</td>\n",
       "    </tr>\n",
       "    <tr>\n",
       "      <th>128331</th>\n",
       "      <td>8132c7c2649e99e05bd5fbd68e820f69</td>\n",
       "      <td>2022-05-26</td>\n",
       "      <td>2022-07-18</td>\n",
       "      <td>False</td>\n",
       "      <td>112.0</td>\n",
       "      <td>168.59</td>\n",
       "      <td>0.0</td>\n",
       "      <td>NaN</td>\n",
       "      <td>Spirit Airlines</td>\n",
       "      <td>2.2</td>\n",
       "      <td>coach</td>\n",
       "      <td>53 days</td>\n",
       "    </tr>\n",
       "    <tr>\n",
       "      <th>102900</th>\n",
       "      <td>8132c7c2649e99e05bd5fbd68e820f69</td>\n",
       "      <td>2022-05-27</td>\n",
       "      <td>2022-07-16</td>\n",
       "      <td>False</td>\n",
       "      <td>42.0</td>\n",
       "      <td>98.59</td>\n",
       "      <td>0.0</td>\n",
       "      <td>NaN</td>\n",
       "      <td>Spirit Airlines</td>\n",
       "      <td>2.2</td>\n",
       "      <td>coach</td>\n",
       "      <td>50 days</td>\n",
       "    </tr>\n",
       "    <tr>\n",
       "      <th>101883</th>\n",
       "      <td>8132c7c2649e99e05bd5fbd68e820f69</td>\n",
       "      <td>2022-05-28</td>\n",
       "      <td>2022-07-16</td>\n",
       "      <td>False</td>\n",
       "      <td>42.0</td>\n",
       "      <td>98.59</td>\n",
       "      <td>0.0</td>\n",
       "      <td>NaN</td>\n",
       "      <td>Spirit Airlines</td>\n",
       "      <td>2.2</td>\n",
       "      <td>coach</td>\n",
       "      <td>49 days</td>\n",
       "    </tr>\n",
       "  </tbody>\n",
       "</table>\n",
       "</div>"
      ]
     },
     "execution_count": 233,
     "metadata": {},
     "output_type": "execute_result"
    }
   ],
   "execution_count": 233
  },
  {
   "metadata": {
    "ExecuteTime": {
     "end_time": "2025-08-05T19:38:40.595344Z",
     "start_time": "2025-08-05T19:34:01.772486Z"
    }
   },
   "cell_type": "code",
   "source": [
    "with ProgressBar():\n",
    "    days_b4 = nonstop_df2['daysBeforeDeparture'].value_counts().compute().sort_index()\n",
    "\n"
   ],
   "id": "a53edd08d2633b7",
   "outputs": [
    {
     "name": "stdout",
     "output_type": "stream",
     "text": [
      "[########################################] | 100% Completed | 278.60 s\n"
     ]
    }
   ],
   "execution_count": 234
  },
  {
   "metadata": {
    "ExecuteTime": {
     "end_time": "2025-08-05T19:42:14.885406Z",
     "start_time": "2025-08-05T19:42:14.873075Z"
    }
   },
   "cell_type": "code",
   "source": "days_b4",
   "id": "b6035873d9c8bc78",
   "outputs": [
    {
     "data": {
      "text/plain": [
       "daysBeforeDeparture\n",
       "1 days     11135\n",
       "2 days     11136\n",
       "3 days     11137\n",
       "4 days     11137\n",
       "5 days     11136\n",
       "6 days     11137\n",
       "7 days     11133\n",
       "8 days     11137\n",
       "9 days     11135\n",
       "10 days    11137\n",
       "11 days    11137\n",
       "12 days    11137\n",
       "13 days    11136\n",
       "14 days    11140\n",
       "15 days    11136\n",
       "16 days    11136\n",
       "17 days    11136\n",
       "18 days    11136\n",
       "19 days    11137\n",
       "20 days    11136\n",
       "21 days    11139\n",
       "22 days    11136\n",
       "23 days    11136\n",
       "24 days    11137\n",
       "25 days    11137\n",
       "26 days    11136\n",
       "27 days    11136\n",
       "28 days    11137\n",
       "29 days    11136\n",
       "30 days    11135\n",
       "31 days    11135\n",
       "32 days    11136\n",
       "33 days    11137\n",
       "34 days    11135\n",
       "35 days    11136\n",
       "36 days    11137\n",
       "37 days    11140\n",
       "38 days    11135\n",
       "39 days    11136\n",
       "40 days    11135\n",
       "41 days    11132\n",
       "42 days    11135\n",
       "43 days    11136\n",
       "44 days    11136\n",
       "45 days    11135\n",
       "46 days    11136\n",
       "47 days    11136\n",
       "48 days    11136\n",
       "49 days    11137\n",
       "50 days    11137\n",
       "51 days    11135\n",
       "52 days    11135\n",
       "53 days    11136\n",
       "54 days    11136\n",
       "55 days    11135\n",
       "56 days    11135\n",
       "57 days    11135\n",
       "58 days    11136\n",
       "59 days    11135\n",
       "60 days    11135\n",
       "Name: count, dtype: int64"
      ]
     },
     "execution_count": 235,
     "metadata": {},
     "output_type": "execute_result"
    }
   ],
   "execution_count": 235
  },
  {
   "metadata": {
    "ExecuteTime": {
     "end_time": "2025-08-05T19:42:23.568473Z",
     "start_time": "2025-08-05T19:42:23.558937Z"
    }
   },
   "cell_type": "code",
   "source": [
    "# removing date columns to reduce dataset size\n",
    "nonstop_df2 = nonstop_df2.drop(['searchDate'], axis=1)"
   ],
   "id": "23606df4eee451e7",
   "outputs": [],
   "execution_count": 236
  },
  {
   "metadata": {
    "ExecuteTime": {
     "end_time": "2025-08-05T19:46:47.864275Z",
     "start_time": "2025-08-05T19:42:26.045419Z"
    }
   },
   "cell_type": "code",
   "source": [
    "with ProgressBar():\n",
    "    airline = nonstop_df2['segmentsAirlineName'].value_counts().compute()\n",
    "airline"
   ],
   "id": "a3f4fd289a839a2f",
   "outputs": [
    {
     "name": "stdout",
     "output_type": "stream",
     "text": [
      "[########################################] | 100% Completed | 261.64 s\n"
     ]
    },
    {
     "data": {
      "text/plain": [
       "segmentsAirlineName\n",
       "United               138600\n",
       "Alaska Airlines        8460\n",
       "Frontier Airlines     15360\n",
       "JetBlue Airways       96420\n",
       "American Airlines    246120\n",
       "Spirit Airlines        7923\n",
       "Delta                155280\n",
       "Name: count, dtype: int64[pyarrow]"
      ]
     },
     "execution_count": 237,
     "metadata": {},
     "output_type": "execute_result"
    }
   ],
   "execution_count": 237
  }
 ],
 "metadata": {
  "kernelspec": {
   "display_name": "Python 3",
   "language": "python",
   "name": "python3"
  },
  "language_info": {
   "codemirror_mode": {
    "name": "ipython",
    "version": 2
   },
   "file_extension": ".py",
   "mimetype": "text/x-python",
   "name": "python",
   "nbconvert_exporter": "python",
   "pygments_lexer": "ipython2",
   "version": "2.7.6"
  }
 },
 "nbformat": 4,
 "nbformat_minor": 5
}
